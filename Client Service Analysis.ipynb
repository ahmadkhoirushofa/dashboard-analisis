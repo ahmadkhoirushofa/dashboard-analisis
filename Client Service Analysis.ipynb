{
 "cells": [
  {
   "cell_type": "markdown",
   "metadata": {},
   "source": [
    "Pertanyaan yang akan di jawab\n",
    "\n",
    "1. Bagaimana persebaran jenis layanan yang di tawarkan oleh StatsMe kepada client? Manakah layanan yang paling banyak dan yang paling sedikit?\n",
    "2. Bagaimana persebaran project StatsMe menurut kotanya? \n",
    "3. Bagaimana persebaran project StatsMe menurut Instansinya?\n",
    "4. Bagaimana persebaran project StatsMe menurut Kantor pengerjaannya?\n",
    "5. Rasio Jumlah Karyawan dengan Jumlah Proyek yang dikerjakan\n"
   ]
  },
  {
   "cell_type": "markdown",
   "metadata": {},
   "source": [
    "# Import Library yang digunakan"
   ]
  },
  {
   "cell_type": "code",
   "execution_count": 30,
   "metadata": {},
   "outputs": [
    {
     "name": "stdout",
     "output_type": "stream",
     "text": [
      "Requirement already satisfied: plotly in c:\\users\\khoir\\appdata\\local\\programs\\python\\python311\\lib\\site-packages (5.24.1)\n",
      "Requirement already satisfied: tenacity>=6.2.0 in c:\\users\\khoir\\appdata\\local\\programs\\python\\python311\\lib\\site-packages (from plotly) (9.0.0)\n",
      "Requirement already satisfied: packaging in c:\\users\\khoir\\appdata\\local\\programs\\python\\python311\\lib\\site-packages (from plotly) (24.1)\n",
      "Note: you may need to restart the kernel to use updated packages.\n"
     ]
    }
   ],
   "source": [
    "%pip install plotly"
   ]
  },
  {
   "cell_type": "code",
   "execution_count": 31,
   "metadata": {},
   "outputs": [],
   "source": [
    "import pandas as pd\n",
    "import numpy as np\n",
    "import matplotlib.pyplot as plt\n",
    "import seaborn as sns\n",
    "import json\n",
    "import requests\n",
    "import plotly.express as px"
   ]
  },
  {
   "cell_type": "markdown",
   "metadata": {},
   "source": [
    "# Exploratory Data Analysis"
   ]
  },
  {
   "cell_type": "markdown",
   "metadata": {},
   "source": [
    "Load Data"
   ]
  },
  {
   "cell_type": "code",
   "execution_count": 32,
   "metadata": {},
   "outputs": [
    {
     "data": {
      "text/html": [
       "<div>\n",
       "<style scoped>\n",
       "    .dataframe tbody tr th:only-of-type {\n",
       "        vertical-align: middle;\n",
       "    }\n",
       "\n",
       "    .dataframe tbody tr th {\n",
       "        vertical-align: top;\n",
       "    }\n",
       "\n",
       "    .dataframe thead th {\n",
       "        text-align: right;\n",
       "    }\n",
       "</style>\n",
       "<table border=\"1\" class=\"dataframe\">\n",
       "  <thead>\n",
       "    <tr style=\"text-align: right;\">\n",
       "      <th></th>\n",
       "      <th>No.</th>\n",
       "      <th>Tahun</th>\n",
       "      <th>Kabupaten/Kota</th>\n",
       "      <th>Proyek</th>\n",
       "      <th>Dinas/Instansi</th>\n",
       "      <th>Jenis Layanan</th>\n",
       "      <th>Jenis Instansi</th>\n",
       "      <th>Kantor</th>\n",
       "    </tr>\n",
       "  </thead>\n",
       "  <tbody>\n",
       "    <tr>\n",
       "      <th>0</th>\n",
       "      <td>1</td>\n",
       "      <td>2017</td>\n",
       "      <td>KABUPATEN SUMENEP</td>\n",
       "      <td>Kajian Standard Harga Pakaian Dinas Pimpinan d...</td>\n",
       "      <td>Lain-lain</td>\n",
       "      <td>Kajian</td>\n",
       "      <td>Lain-lain</td>\n",
       "      <td>Kantor Pusat</td>\n",
       "    </tr>\n",
       "    <tr>\n",
       "      <th>1</th>\n",
       "      <td>2</td>\n",
       "      <td>2017</td>\n",
       "      <td>KOTA SURABAYA</td>\n",
       "      <td>Survei Pemukiman Padat</td>\n",
       "      <td>Lain-lain</td>\n",
       "      <td>Survei dan Pendataan</td>\n",
       "      <td>Lain-lain</td>\n",
       "      <td>Kantor Pusat</td>\n",
       "    </tr>\n",
       "    <tr>\n",
       "      <th>2</th>\n",
       "      <td>3</td>\n",
       "      <td>2017</td>\n",
       "      <td>KOTA SURABAYA</td>\n",
       "      <td>Survei dan Kajian Kepadatan Kendaraan PT. SIER</td>\n",
       "      <td>PT. SIER</td>\n",
       "      <td>Survei dan Pendataan</td>\n",
       "      <td>Swasta</td>\n",
       "      <td>Kantor Pusat</td>\n",
       "    </tr>\n",
       "    <tr>\n",
       "      <th>3</th>\n",
       "      <td>4</td>\n",
       "      <td>2017</td>\n",
       "      <td>KABUPATEN BOJONEGORO</td>\n",
       "      <td>Survei Elektabilitas &amp; Popularitas</td>\n",
       "      <td>Lain-lain</td>\n",
       "      <td>Survei dan Pendataan</td>\n",
       "      <td>Lain-lain</td>\n",
       "      <td>Kantor Pusat</td>\n",
       "    </tr>\n",
       "    <tr>\n",
       "      <th>4</th>\n",
       "      <td>5</td>\n",
       "      <td>2017</td>\n",
       "      <td>KABUPATEN SIDOARJO</td>\n",
       "      <td>Pengklusteran Dana Bergulir</td>\n",
       "      <td>Dinas Koperasi dan Usaha Mikro</td>\n",
       "      <td>Lain-lain</td>\n",
       "      <td>Pemerintahan</td>\n",
       "      <td>Kantor Pusat</td>\n",
       "    </tr>\n",
       "    <tr>\n",
       "      <th>5</th>\n",
       "      <td>6</td>\n",
       "      <td>2018</td>\n",
       "      <td>KOTA BLITAR</td>\n",
       "      <td>Penyusunan Updating Data Bidang Sosial Kemasya...</td>\n",
       "      <td>Sekretariat Daerah</td>\n",
       "      <td>Updating Data</td>\n",
       "      <td>Pemerintahan</td>\n",
       "      <td>Kantor Pusat</td>\n",
       "    </tr>\n",
       "    <tr>\n",
       "      <th>6</th>\n",
       "      <td>7</td>\n",
       "      <td>2018</td>\n",
       "      <td>KOTA BLITAR</td>\n",
       "      <td>Penyusunan Buku Profil</td>\n",
       "      <td>Dinas Informasi Komunikasi dan Statistika</td>\n",
       "      <td>Buku dan Video Profile</td>\n",
       "      <td>Pemerintahan</td>\n",
       "      <td>Kantor Pusat</td>\n",
       "    </tr>\n",
       "    <tr>\n",
       "      <th>7</th>\n",
       "      <td>8</td>\n",
       "      <td>2018</td>\n",
       "      <td>KOTA BLITAR</td>\n",
       "      <td>Data Sektoral dan Statistik Jilid 2</td>\n",
       "      <td>Dinas Informasi Komunikasi dan Statistika</td>\n",
       "      <td>Satu Data Daerah</td>\n",
       "      <td>Pemerintahan</td>\n",
       "      <td>Kantor Pusat</td>\n",
       "    </tr>\n",
       "    <tr>\n",
       "      <th>8</th>\n",
       "      <td>9</td>\n",
       "      <td>2018</td>\n",
       "      <td>KOTA BLITAR</td>\n",
       "      <td>Pengumpulan Data Statistik</td>\n",
       "      <td>Dinas Informasi Komunikasi dan Statistika</td>\n",
       "      <td>Satu Data Daerah</td>\n",
       "      <td>Pemerintahan</td>\n",
       "      <td>Kantor Pusat</td>\n",
       "    </tr>\n",
       "    <tr>\n",
       "      <th>9</th>\n",
       "      <td>10</td>\n",
       "      <td>2018</td>\n",
       "      <td>KOTA BLITAR</td>\n",
       "      <td>Indeks Gini</td>\n",
       "      <td>Dinas Informasi Komunikasi dan Statistika</td>\n",
       "      <td>Perhitungan Indeks</td>\n",
       "      <td>Pemerintahan</td>\n",
       "      <td>Kantor Pusat</td>\n",
       "    </tr>\n",
       "  </tbody>\n",
       "</table>\n",
       "</div>"
      ],
      "text/plain": [
       "   No.  Tahun        Kabupaten/Kota  \\\n",
       "0    1   2017     KABUPATEN SUMENEP   \n",
       "1    2   2017         KOTA SURABAYA   \n",
       "2    3   2017         KOTA SURABAYA   \n",
       "3    4   2017  KABUPATEN BOJONEGORO   \n",
       "4    5   2017    KABUPATEN SIDOARJO   \n",
       "5    6   2018           KOTA BLITAR   \n",
       "6    7   2018           KOTA BLITAR   \n",
       "7    8   2018           KOTA BLITAR   \n",
       "8    9   2018           KOTA BLITAR   \n",
       "9   10   2018           KOTA BLITAR   \n",
       "\n",
       "                                              Proyek  \\\n",
       "0  Kajian Standard Harga Pakaian Dinas Pimpinan d...   \n",
       "1                             Survei Pemukiman Padat   \n",
       "2     Survei dan Kajian Kepadatan Kendaraan PT. SIER   \n",
       "3                 Survei Elektabilitas & Popularitas   \n",
       "4                        Pengklusteran Dana Bergulir   \n",
       "5  Penyusunan Updating Data Bidang Sosial Kemasya...   \n",
       "6                             Penyusunan Buku Profil   \n",
       "7                Data Sektoral dan Statistik Jilid 2   \n",
       "8                         Pengumpulan Data Statistik   \n",
       "9                                        Indeks Gini   \n",
       "\n",
       "                              Dinas/Instansi           Jenis Layanan  \\\n",
       "0                                  Lain-lain                  Kajian   \n",
       "1                                  Lain-lain    Survei dan Pendataan   \n",
       "2                                   PT. SIER    Survei dan Pendataan   \n",
       "3                                  Lain-lain    Survei dan Pendataan   \n",
       "4             Dinas Koperasi dan Usaha Mikro               Lain-lain   \n",
       "5                         Sekretariat Daerah           Updating Data   \n",
       "6  Dinas Informasi Komunikasi dan Statistika  Buku dan Video Profile   \n",
       "7  Dinas Informasi Komunikasi dan Statistika        Satu Data Daerah   \n",
       "8  Dinas Informasi Komunikasi dan Statistika        Satu Data Daerah   \n",
       "9  Dinas Informasi Komunikasi dan Statistika      Perhitungan Indeks   \n",
       "\n",
       "  Jenis Instansi        Kantor  \n",
       "0      Lain-lain  Kantor Pusat  \n",
       "1      Lain-lain  Kantor Pusat  \n",
       "2         Swasta  Kantor Pusat  \n",
       "3      Lain-lain  Kantor Pusat  \n",
       "4   Pemerintahan  Kantor Pusat  \n",
       "5   Pemerintahan  Kantor Pusat  \n",
       "6   Pemerintahan  Kantor Pusat  \n",
       "7   Pemerintahan  Kantor Pusat  \n",
       "8   Pemerintahan  Kantor Pusat  \n",
       "9   Pemerintahan  Kantor Pusat  "
      ]
     },
     "execution_count": 32,
     "metadata": {},
     "output_type": "execute_result"
    }
   ],
   "source": [
    "df = pd.read_excel('data.xlsx')\n",
    "df.head(10)"
   ]
  },
  {
   "cell_type": "markdown",
   "metadata": {},
   "source": [
    "Melihat Informasi dasar dari data"
   ]
  },
  {
   "cell_type": "code",
   "execution_count": 33,
   "metadata": {},
   "outputs": [
    {
     "name": "stdout",
     "output_type": "stream",
     "text": [
      "<class 'pandas.core.frame.DataFrame'>\n",
      "RangeIndex: 590 entries, 0 to 589\n",
      "Data columns (total 8 columns):\n",
      " #   Column          Non-Null Count  Dtype \n",
      "---  ------          --------------  ----- \n",
      " 0   No.             590 non-null    int64 \n",
      " 1   Tahun           590 non-null    int64 \n",
      " 2   Kabupaten/Kota  590 non-null    object\n",
      " 3   Proyek          590 non-null    object\n",
      " 4   Dinas/Instansi  590 non-null    object\n",
      " 5   Jenis Layanan   590 non-null    object\n",
      " 6   Jenis Instansi  590 non-null    object\n",
      " 7   Kantor          590 non-null    object\n",
      "dtypes: int64(2), object(6)\n",
      "memory usage: 37.0+ KB\n"
     ]
    }
   ],
   "source": [
    "df.info()\n"
   ]
  },
  {
   "cell_type": "code",
   "execution_count": 34,
   "metadata": {},
   "outputs": [
    {
     "data": {
      "text/html": [
       "<div>\n",
       "<style scoped>\n",
       "    .dataframe tbody tr th:only-of-type {\n",
       "        vertical-align: middle;\n",
       "    }\n",
       "\n",
       "    .dataframe tbody tr th {\n",
       "        vertical-align: top;\n",
       "    }\n",
       "\n",
       "    .dataframe thead th {\n",
       "        text-align: right;\n",
       "    }\n",
       "</style>\n",
       "<table border=\"1\" class=\"dataframe\">\n",
       "  <thead>\n",
       "    <tr style=\"text-align: right;\">\n",
       "      <th></th>\n",
       "      <th>No.</th>\n",
       "      <th>Tahun</th>\n",
       "      <th>Kabupaten/Kota</th>\n",
       "      <th>Proyek</th>\n",
       "      <th>Dinas/Instansi</th>\n",
       "      <th>Jenis Layanan</th>\n",
       "      <th>Jenis Instansi</th>\n",
       "      <th>Kantor</th>\n",
       "    </tr>\n",
       "  </thead>\n",
       "  <tbody>\n",
       "    <tr>\n",
       "      <th>count</th>\n",
       "      <td>590.000000</td>\n",
       "      <td>590.000000</td>\n",
       "      <td>590</td>\n",
       "      <td>590</td>\n",
       "      <td>590</td>\n",
       "      <td>590</td>\n",
       "      <td>590</td>\n",
       "      <td>590</td>\n",
       "    </tr>\n",
       "    <tr>\n",
       "      <th>unique</th>\n",
       "      <td>NaN</td>\n",
       "      <td>NaN</td>\n",
       "      <td>55</td>\n",
       "      <td>445</td>\n",
       "      <td>136</td>\n",
       "      <td>10</td>\n",
       "      <td>4</td>\n",
       "      <td>4</td>\n",
       "    </tr>\n",
       "    <tr>\n",
       "      <th>top</th>\n",
       "      <td>NaN</td>\n",
       "      <td>NaN</td>\n",
       "      <td>KOTA BLITAR</td>\n",
       "      <td>Survei Kepuasan Masyarakat</td>\n",
       "      <td>Badan Perencanaan Pembangunan Daerah</td>\n",
       "      <td>Survei dan Pendataan</td>\n",
       "      <td>Pemerintahan</td>\n",
       "      <td>Kantor Pusat</td>\n",
       "    </tr>\n",
       "    <tr>\n",
       "      <th>freq</th>\n",
       "      <td>NaN</td>\n",
       "      <td>NaN</td>\n",
       "      <td>74</td>\n",
       "      <td>52</td>\n",
       "      <td>71</td>\n",
       "      <td>195</td>\n",
       "      <td>564</td>\n",
       "      <td>552</td>\n",
       "    </tr>\n",
       "    <tr>\n",
       "      <th>mean</th>\n",
       "      <td>295.500000</td>\n",
       "      <td>2022.184746</td>\n",
       "      <td>NaN</td>\n",
       "      <td>NaN</td>\n",
       "      <td>NaN</td>\n",
       "      <td>NaN</td>\n",
       "      <td>NaN</td>\n",
       "      <td>NaN</td>\n",
       "    </tr>\n",
       "    <tr>\n",
       "      <th>std</th>\n",
       "      <td>170.462606</td>\n",
       "      <td>1.811519</td>\n",
       "      <td>NaN</td>\n",
       "      <td>NaN</td>\n",
       "      <td>NaN</td>\n",
       "      <td>NaN</td>\n",
       "      <td>NaN</td>\n",
       "      <td>NaN</td>\n",
       "    </tr>\n",
       "    <tr>\n",
       "      <th>min</th>\n",
       "      <td>1.000000</td>\n",
       "      <td>2017.000000</td>\n",
       "      <td>NaN</td>\n",
       "      <td>NaN</td>\n",
       "      <td>NaN</td>\n",
       "      <td>NaN</td>\n",
       "      <td>NaN</td>\n",
       "      <td>NaN</td>\n",
       "    </tr>\n",
       "    <tr>\n",
       "      <th>25%</th>\n",
       "      <td>148.250000</td>\n",
       "      <td>2021.000000</td>\n",
       "      <td>NaN</td>\n",
       "      <td>NaN</td>\n",
       "      <td>NaN</td>\n",
       "      <td>NaN</td>\n",
       "      <td>NaN</td>\n",
       "      <td>NaN</td>\n",
       "    </tr>\n",
       "    <tr>\n",
       "      <th>50%</th>\n",
       "      <td>295.500000</td>\n",
       "      <td>2023.000000</td>\n",
       "      <td>NaN</td>\n",
       "      <td>NaN</td>\n",
       "      <td>NaN</td>\n",
       "      <td>NaN</td>\n",
       "      <td>NaN</td>\n",
       "      <td>NaN</td>\n",
       "    </tr>\n",
       "    <tr>\n",
       "      <th>75%</th>\n",
       "      <td>442.750000</td>\n",
       "      <td>2024.000000</td>\n",
       "      <td>NaN</td>\n",
       "      <td>NaN</td>\n",
       "      <td>NaN</td>\n",
       "      <td>NaN</td>\n",
       "      <td>NaN</td>\n",
       "      <td>NaN</td>\n",
       "    </tr>\n",
       "    <tr>\n",
       "      <th>max</th>\n",
       "      <td>590.000000</td>\n",
       "      <td>2024.000000</td>\n",
       "      <td>NaN</td>\n",
       "      <td>NaN</td>\n",
       "      <td>NaN</td>\n",
       "      <td>NaN</td>\n",
       "      <td>NaN</td>\n",
       "      <td>NaN</td>\n",
       "    </tr>\n",
       "  </tbody>\n",
       "</table>\n",
       "</div>"
      ],
      "text/plain": [
       "               No.        Tahun Kabupaten/Kota                      Proyek  \\\n",
       "count   590.000000   590.000000            590                         590   \n",
       "unique         NaN          NaN             55                         445   \n",
       "top            NaN          NaN    KOTA BLITAR  Survei Kepuasan Masyarakat   \n",
       "freq           NaN          NaN             74                          52   \n",
       "mean    295.500000  2022.184746            NaN                         NaN   \n",
       "std     170.462606     1.811519            NaN                         NaN   \n",
       "min       1.000000  2017.000000            NaN                         NaN   \n",
       "25%     148.250000  2021.000000            NaN                         NaN   \n",
       "50%     295.500000  2023.000000            NaN                         NaN   \n",
       "75%     442.750000  2024.000000            NaN                         NaN   \n",
       "max     590.000000  2024.000000            NaN                         NaN   \n",
       "\n",
       "                              Dinas/Instansi         Jenis Layanan  \\\n",
       "count                                    590                   590   \n",
       "unique                                   136                    10   \n",
       "top     Badan Perencanaan Pembangunan Daerah  Survei dan Pendataan   \n",
       "freq                                      71                   195   \n",
       "mean                                     NaN                   NaN   \n",
       "std                                      NaN                   NaN   \n",
       "min                                      NaN                   NaN   \n",
       "25%                                      NaN                   NaN   \n",
       "50%                                      NaN                   NaN   \n",
       "75%                                      NaN                   NaN   \n",
       "max                                      NaN                   NaN   \n",
       "\n",
       "       Jenis Instansi        Kantor  \n",
       "count             590           590  \n",
       "unique              4             4  \n",
       "top      Pemerintahan  Kantor Pusat  \n",
       "freq              564           552  \n",
       "mean              NaN           NaN  \n",
       "std               NaN           NaN  \n",
       "min               NaN           NaN  \n",
       "25%               NaN           NaN  \n",
       "50%               NaN           NaN  \n",
       "75%               NaN           NaN  \n",
       "max               NaN           NaN  "
      ]
     },
     "execution_count": 34,
     "metadata": {},
     "output_type": "execute_result"
    }
   ],
   "source": [
    "df.describe(include='all')\n"
   ]
  },
  {
   "cell_type": "code",
   "execution_count": 35,
   "metadata": {},
   "outputs": [],
   "source": [
    "df.drop('No.', axis=1, inplace=True)"
   ]
  },
  {
   "cell_type": "code",
   "execution_count": 36,
   "metadata": {},
   "outputs": [],
   "source": [
    "df['Kantor'] = df['Kantor'].astype('category')\n",
    "df['Tahun'] = df['Tahun'].astype('category')\n",
    "df['Jenis Layanan'] = df['Jenis Layanan'].astype('category')"
   ]
  },
  {
   "cell_type": "code",
   "execution_count": 37,
   "metadata": {},
   "outputs": [
    {
     "name": "stdout",
     "output_type": "stream",
     "text": [
      "Tipe data Kantor: category\n",
      "Tipe data Tahun: category\n",
      "Tipe data Layanan: category\n"
     ]
    }
   ],
   "source": [
    "print(\"Tipe data Kantor:\", df['Kantor'].dtype)\n",
    "print(\"Tipe data Tahun:\", df['Tahun'].dtype)\n",
    "print(\"Tipe data Layanan:\", df['Jenis Layanan'].dtype)"
   ]
  },
  {
   "cell_type": "markdown",
   "metadata": {},
   "source": [
    "Cek apakah ada data yang kosong atau duplikat"
   ]
  },
  {
   "cell_type": "code",
   "execution_count": 38,
   "metadata": {},
   "outputs": [
    {
     "data": {
      "text/plain": [
       "Tahun             0\n",
       "Kabupaten/Kota    0\n",
       "Proyek            0\n",
       "Dinas/Instansi    0\n",
       "Jenis Layanan     0\n",
       "Jenis Instansi    0\n",
       "Kantor            0\n",
       "dtype: int64"
      ]
     },
     "execution_count": 38,
     "metadata": {},
     "output_type": "execute_result"
    }
   ],
   "source": [
    "df.isnull().sum()"
   ]
  },
  {
   "cell_type": "code",
   "execution_count": 39,
   "metadata": {},
   "outputs": [
    {
     "data": {
      "text/html": [
       "<div>\n",
       "<style scoped>\n",
       "    .dataframe tbody tr th:only-of-type {\n",
       "        vertical-align: middle;\n",
       "    }\n",
       "\n",
       "    .dataframe tbody tr th {\n",
       "        vertical-align: top;\n",
       "    }\n",
       "\n",
       "    .dataframe thead th {\n",
       "        text-align: right;\n",
       "    }\n",
       "</style>\n",
       "<table border=\"1\" class=\"dataframe\">\n",
       "  <thead>\n",
       "    <tr style=\"text-align: right;\">\n",
       "      <th></th>\n",
       "      <th>Tahun</th>\n",
       "      <th>Kabupaten/Kota</th>\n",
       "      <th>Proyek</th>\n",
       "      <th>Dinas/Instansi</th>\n",
       "      <th>Jenis Layanan</th>\n",
       "      <th>Jenis Instansi</th>\n",
       "      <th>Kantor</th>\n",
       "    </tr>\n",
       "  </thead>\n",
       "  <tbody>\n",
       "    <tr>\n",
       "      <th>10</th>\n",
       "      <td>2018</td>\n",
       "      <td>KOTA BLITAR</td>\n",
       "      <td>Penyusunan Updating Data Bidang Sosial Kemasya...</td>\n",
       "      <td>Sekretariat Daerah</td>\n",
       "      <td>Updating Data</td>\n",
       "      <td>Pemerintahan</td>\n",
       "      <td>Kantor Pusat</td>\n",
       "    </tr>\n",
       "    <tr>\n",
       "      <th>13</th>\n",
       "      <td>2018</td>\n",
       "      <td>KABUPATEN BLITAR</td>\n",
       "      <td>Survei Kepuasan Masyarakat dan Harapan Masyarakat</td>\n",
       "      <td>Sekretariat Daerah</td>\n",
       "      <td>Survei dan Pendataan</td>\n",
       "      <td>Pemerintahan</td>\n",
       "      <td>Kantor Pusat</td>\n",
       "    </tr>\n",
       "    <tr>\n",
       "      <th>44</th>\n",
       "      <td>2019</td>\n",
       "      <td>KABUPATEN KEDIRI</td>\n",
       "      <td>Publikasi Data Statistik Daerah</td>\n",
       "      <td>Dinas Komunikasi dan Informatika</td>\n",
       "      <td>Satu Data Daerah</td>\n",
       "      <td>Pemerintahan</td>\n",
       "      <td>Kantor Pusat</td>\n",
       "    </tr>\n",
       "    <tr>\n",
       "      <th>99</th>\n",
       "      <td>2020</td>\n",
       "      <td>KABUPATEN PROBOLINGGO</td>\n",
       "      <td>Survei Kepuasan Masyarakat</td>\n",
       "      <td>Dinas Kependudukan dan Pencatatan Sipil</td>\n",
       "      <td>Survei dan Pendataan</td>\n",
       "      <td>Pemerintahan</td>\n",
       "      <td>Kantor Pusat</td>\n",
       "    </tr>\n",
       "    <tr>\n",
       "      <th>233</th>\n",
       "      <td>2022</td>\n",
       "      <td>KABUPATEN MOJOKERTO</td>\n",
       "      <td>Penyusunan Metadata dan Standar Data Statistik...</td>\n",
       "      <td>Dinas Komunikasi dan Informatika</td>\n",
       "      <td>Satu Data Daerah</td>\n",
       "      <td>Pemerintahan</td>\n",
       "      <td>Kantor Pusat</td>\n",
       "    </tr>\n",
       "    <tr>\n",
       "      <th>256</th>\n",
       "      <td>2022</td>\n",
       "      <td>KABUPATEN PROBOLINGGO</td>\n",
       "      <td>Belanja Jasa Konsultansi Berorientasi Bidang-K...</td>\n",
       "      <td>Dinas Kependudukan dan Pencatatan Sipil</td>\n",
       "      <td>Lain-lain</td>\n",
       "      <td>Pemerintahan</td>\n",
       "      <td>Kantor Pusat</td>\n",
       "    </tr>\n",
       "    <tr>\n",
       "      <th>364</th>\n",
       "      <td>2023</td>\n",
       "      <td>KOTA MOJOKERTO</td>\n",
       "      <td>Survei Kepuasan Masyarakat</td>\n",
       "      <td>Dinas Kesehatan Pengendalian Penduduk dan Kelu...</td>\n",
       "      <td>Survei dan Pendataan</td>\n",
       "      <td>Pemerintahan</td>\n",
       "      <td>Kantor Pusat</td>\n",
       "    </tr>\n",
       "  </tbody>\n",
       "</table>\n",
       "</div>"
      ],
      "text/plain": [
       "    Tahun         Kabupaten/Kota  \\\n",
       "10   2018            KOTA BLITAR   \n",
       "13   2018       KABUPATEN BLITAR   \n",
       "44   2019       KABUPATEN KEDIRI   \n",
       "99   2020  KABUPATEN PROBOLINGGO   \n",
       "233  2022    KABUPATEN MOJOKERTO   \n",
       "256  2022  KABUPATEN PROBOLINGGO   \n",
       "364  2023         KOTA MOJOKERTO   \n",
       "\n",
       "                                                Proyek  \\\n",
       "10   Penyusunan Updating Data Bidang Sosial Kemasya...   \n",
       "13   Survei Kepuasan Masyarakat dan Harapan Masyarakat   \n",
       "44                     Publikasi Data Statistik Daerah   \n",
       "99                          Survei Kepuasan Masyarakat   \n",
       "233  Penyusunan Metadata dan Standar Data Statistik...   \n",
       "256  Belanja Jasa Konsultansi Berorientasi Bidang-K...   \n",
       "364                         Survei Kepuasan Masyarakat   \n",
       "\n",
       "                                        Dinas/Instansi         Jenis Layanan  \\\n",
       "10                                  Sekretariat Daerah         Updating Data   \n",
       "13                                  Sekretariat Daerah  Survei dan Pendataan   \n",
       "44                    Dinas Komunikasi dan Informatika      Satu Data Daerah   \n",
       "99             Dinas Kependudukan dan Pencatatan Sipil  Survei dan Pendataan   \n",
       "233                   Dinas Komunikasi dan Informatika      Satu Data Daerah   \n",
       "256            Dinas Kependudukan dan Pencatatan Sipil             Lain-lain   \n",
       "364  Dinas Kesehatan Pengendalian Penduduk dan Kelu...  Survei dan Pendataan   \n",
       "\n",
       "    Jenis Instansi        Kantor  \n",
       "10    Pemerintahan  Kantor Pusat  \n",
       "13    Pemerintahan  Kantor Pusat  \n",
       "44    Pemerintahan  Kantor Pusat  \n",
       "99    Pemerintahan  Kantor Pusat  \n",
       "233   Pemerintahan  Kantor Pusat  \n",
       "256   Pemerintahan  Kantor Pusat  \n",
       "364   Pemerintahan  Kantor Pusat  "
      ]
     },
     "metadata": {},
     "output_type": "display_data"
    },
    {
     "name": "stdout",
     "output_type": "stream",
     "text": [
      "\n",
      "Total data duplikat: 7 baris\n"
     ]
    }
   ],
   "source": [
    "duplicated_df = df[df.duplicated(keep='first')]\n",
    "display(duplicated_df)\n",
    "print(f\"\\nTotal data duplikat: {len(duplicated_df)} baris\")"
   ]
  },
  {
   "cell_type": "code",
   "execution_count": 40,
   "metadata": {},
   "outputs": [],
   "source": [
    "df = df.drop_duplicates()"
   ]
  },
  {
   "cell_type": "markdown",
   "metadata": {},
   "source": [
    "### Menjawab Pertanyaan Pertama"
   ]
  },
  {
   "cell_type": "markdown",
   "metadata": {},
   "source": [
    "Bagaimana persebaran jenis layanan yang di tawarkan oleh StatsMe kepada client? Manakah layanan yang paling banyak dan yang paling sedikit?"
   ]
  },
  {
   "cell_type": "code",
   "execution_count": 41,
   "metadata": {},
   "outputs": [
    {
     "data": {
      "text/plain": [
       "['Kajian', 'Survei dan Pendataan', 'Lain-lain', 'Updating Data', 'Buku dan Video Profile', 'Satu Data Daerah', 'Perhitungan Indeks', 'Pembuatan Website dan Aplikasi', 'Penyusunan Dokumen', 'Infografis']\n",
       "Categories (10, object): ['Buku dan Video Profile', 'Infografis', 'Kajian', 'Lain-lain', ..., 'Perhitungan Indeks', 'Satu Data Daerah', 'Survei dan Pendataan', 'Updating Data']"
      ]
     },
     "execution_count": 41,
     "metadata": {},
     "output_type": "execute_result"
    }
   ],
   "source": [
    "df['Jenis Layanan'].unique()"
   ]
  },
  {
   "cell_type": "code",
   "execution_count": 42,
   "metadata": {},
   "outputs": [
    {
     "name": "stdout",
     "output_type": "stream",
     "text": [
      "Jenis Layanan\n",
      "Survei dan Pendataan              192\n",
      "Kajian                             96\n",
      "Perhitungan Indeks                 83\n",
      "Penyusunan Dokumen                 71\n",
      "Buku dan Video Profile             46\n",
      "Lain-lain                          39\n",
      "Satu Data Daerah                   29\n",
      "Pembuatan Website dan Aplikasi     15\n",
      "Updating Data                       7\n",
      "Infografis                          5\n",
      "Name: count, dtype: int64\n"
     ]
    }
   ],
   "source": [
    "layanan_counts = df['Jenis Layanan'].value_counts()\n",
    "print(layanan_counts)"
   ]
  },
  {
   "cell_type": "code",
   "execution_count": 43,
   "metadata": {},
   "outputs": [
    {
     "data": {
      "image/png": "[encoded data removed]",
      "text/plain": [
       "<Figure size 1200x600 with 1 Axes>"
      ]
     },
     "metadata": {},
     "output_type": "display_data"
    }
   ],
   "source": [
    "plt.figure(figsize=(12, 6))\n",
    "bars = plt.bar(layanan_counts.index, layanan_counts.values, width=0.8)\n",
    "plt.xlabel('Jenis Layanan', size=12)\n",
    "plt.ylabel('Jumlah Proyek', size=12)\n",
    "plt.xticks(rotation=45, ha='right')\n",
    "plt.grid(axis='y', linestyle='--', alpha=0.7)\n",
    "\n",
    "for bar in bars:\n",
    "    height = bar.get_height()\n",
    "    plt.text(bar.get_x() + bar.get_width()/2., height,\n",
    "             f'{int(height)}',\n",
    "             ha='center', va='bottom')\n",
    "\n",
    "plt.tight_layout()\n",
    "plt.show()"
   ]
  },
  {
   "cell_type": "markdown",
   "metadata": {},
   "source": [
    "Interpretasi data :\n",
    "sejauh ini Survei dan Pendataan menjadi jenis layanan yang paling banyak dilakukan, dengan jumlah proyek sebanyak 192. Hal ini menunjukkan bahwa layanan ini memiliki tingkat permintaan tertinggi dibandingkan layanan lainnya. sedangkan jenis layanan dengan jumlah permintaan paling sedikit adalah infografis dengan 5 permintaan dan disusul updating data dengan 7 permintaan"
   ]
  },
  {
   "cell_type": "code",
   "execution_count": 44,
   "metadata": {},
   "outputs": [
    {
     "data": {
      "text/plain": [
       "Jenis Layanan\n",
       "Survei dan Pendataan              32.9\n",
       "Kajian                            16.5\n",
       "Perhitungan Indeks                14.2\n",
       "Penyusunan Dokumen                12.2\n",
       "Buku dan Video Profile             7.9\n",
       "Lain-lain                          6.7\n",
       "Satu Data Daerah                   5.0\n",
       "Pembuatan Website dan Aplikasi     2.6\n",
       "Updating Data                      1.2\n",
       "Infografis                         0.9\n",
       "Name: count, dtype: float64"
      ]
     },
     "execution_count": 44,
     "metadata": {},
     "output_type": "execute_result"
    }
   ],
   "source": [
    "layanan_percent = (layanan_counts / len(df) * 100).round(1)\n",
    "layanan_percent"
   ]
  },
  {
   "cell_type": "code",
   "execution_count": 45,
   "metadata": {},
   "outputs": [
    {
     "data": {
      "image/png": "[encoded data removed]",
      "text/plain": [
       "<Figure size 1200x800 with 1 Axes>"
      ]
     },
     "metadata": {},
     "output_type": "display_data"
    }
   ],
   "source": [
    "plt.figure(figsize=(12, 8))\n",
    "plt.pie(layanan_percent, labels=[f'{label}\\n({pct}%)' for label, pct in zip(layanan_percent.index, layanan_percent)],\n",
    "        autopct='', startangle=90)\n",
    "\n",
    "# Tambahkan judul\n",
    "plt.title('Persentase Jenis Layanan StatsMe', pad=20, size=14)\n",
    "\n",
    "# Tambahkan legenda\n",
    "plt.legend(layanan_percent.index, title=\"Jenis Layanan\", \n",
    "          loc=\"center left\", bbox_to_anchor=(1, 0, 0.5, 1))\n",
    "\n",
    "plt.tight_layout()\n",
    "plt.show()"
   ]
  },
  {
   "cell_type": "markdown",
   "metadata": {},
   "source": [
    "Interpretasi data:\n",
    "Jika dilihat dari persentasenya dapat layanan survei dan pendataan ada diangka 33.1%, ini menunjukkan bahwa sepertiga dari project yang dilaksanakan PT Cemerlang Statistika Indonesia adalah melakukan survei dan pendataan, sedangkan persentase untuk jenis layanan yang lain adalah sebagai berikut : \n",
    "Kajian                            16.3%\n",
    "Perhitungan Indeks                14.1%\n",
    "Penyusunan Dokumen                12.0%\n",
    "Buku dan Video Profile             7.8%\n",
    "Lain-lain                          6.8%\n",
    "Satu Data Daerah                   5.3%\n",
    "Pembuatan Website dan Aplikasi     2.5%\n",
    "Updating Data                      1.4%\n",
    "Infografis                         0.8%"
   ]
  },
  {
   "cell_type": "markdown",
   "metadata": {},
   "source": [
    "### Menjawab Pertanyaan Kedua"
   ]
  },
  {
   "cell_type": "markdown",
   "metadata": {},
   "source": [
    "Bagaimana persebaran project StatsMe menurut kotanya?"
   ]
  },
  {
   "cell_type": "code",
   "execution_count": 46,
   "metadata": {},
   "outputs": [
    {
     "data": {
      "text/plain": [
       "array(['KABUPATEN SUMENEP', 'KOTA SURABAYA', 'KABUPATEN BOJONEGORO',\n",
       "       'KABUPATEN SIDOARJO', 'KOTA BLITAR', 'KABUPATEN BLITAR',\n",
       "       'KABUPATEN PROBOLINGGO', 'KOTA KEDIRI', 'KOTA MALANG',\n",
       "       'KABUPATEN NGANJUK', 'KABUPATEN MOJOKERTO', 'KOTA MOJOKERTO',\n",
       "       'KABUPATEN KEDIRI', 'KOTA MADIUN', 'KABUPATEN PASURUAN',\n",
       "       'KOTA BATU', 'KABUPATEN TUBAN', 'KOTA PASURUAN',\n",
       "       'KABUPATEN LAMONGAN', 'KABUPATEN TULUNGAGUNG', 'KABUPATEN SAMPANG',\n",
       "       'KABUPATEN JOMBANG', 'KABUPATEN BANGKALAN', 'KABUPATEN GRESIK',\n",
       "       'JAWA TIMUR', 'KABUPATEN MADIUN', 'KABUPATEN MAGETAN',\n",
       "       'KABUPATEN MALANG', 'KABUPATEN PAMEKASAN', 'KOTA PROBOLINGGO',\n",
       "       'KOTA SURAKARTA', 'KABUPATEN TRENGGALEK', 'KABUPATEN BONDOWOSO',\n",
       "       'KABUPATEN LUMAJANG', 'KOTA MAKASSAR', 'KABUPATEN PANGANDARAN',\n",
       "       'SULAWESI SELATAN', 'KOTA TANGERANG', 'KABUPATEN SITUBONDO',\n",
       "       'KOTA JAKARTA SELATAN', 'KOTA SAMARINDA', 'KOTA PADANG',\n",
       "       'KALIMANTAN TIMUR', 'KOTA JAKARTA PUSAT', 'KABUPATEN PATI',\n",
       "       'KABUPATEN BLORA', 'KABUPATEN KLATEN', 'KABUPATEN GROBOGAN',\n",
       "       'KABUPATEN SRAGEN', 'KABUPATEN BEKASI', 'KOTA DEPOK',\n",
       "       'KOTA TANGERANG SELATAN', 'KABUPATEN BOGOR', 'KOTA PARE-PARE',\n",
       "       'SULAWESI BARAT'], dtype=object)"
      ]
     },
     "execution_count": 46,
     "metadata": {},
     "output_type": "execute_result"
    }
   ],
   "source": [
    "df['Kabupaten/Kota'].unique()"
   ]
  },
  {
   "cell_type": "code",
   "execution_count": 47,
   "metadata": {},
   "outputs": [
    {
     "data": {
      "text/plain": [
       "Kabupaten/Kota\n",
       "KOTA BLITAR               73\n",
       "KABUPATEN MOJOKERTO       62\n",
       "KABUPATEN BOJONEGORO      43\n",
       "KABUPATEN SIDOARJO        38\n",
       "KOTA MOJOKERTO            33\n",
       "KABUPATEN BLITAR          32\n",
       "KABUPATEN PROBOLINGGO     26\n",
       "KABUPATEN LAMONGAN        25\n",
       "KABUPATEN NGANJUK         20\n",
       "KOTA MALANG               19\n",
       "KABUPATEN SUMENEP         15\n",
       "KABUPATEN JOMBANG         15\n",
       "KABUPATEN TULUNGAGUNG     15\n",
       "KOTA MADIUN               15\n",
       "KABUPATEN PASURUAN        10\n",
       "KABUPATEN TRENGGALEK      10\n",
       "KABUPATEN MADIUN          10\n",
       "KABUPATEN SITUBONDO        8\n",
       "KABUPATEN PAMEKASAN        8\n",
       "KOTA KEDIRI                7\n",
       "KOTA SURAKARTA             7\n",
       "KOTA BATU                  6\n",
       "KABUPATEN BEKASI           6\n",
       "KOTA PASURUAN              6\n",
       "KOTA SURABAYA              6\n",
       "KABUPATEN KEDIRI           6\n",
       "KOTA MAKASSAR              6\n",
       "KABUPATEN MALANG           5\n",
       "JAWA TIMUR                 5\n",
       "KABUPATEN TUBAN            5\n",
       "KOTA SAMARINDA             4\n",
       "KABUPATEN BLORA            3\n",
       "KABUPATEN SAMPANG          3\n",
       "SULAWESI SELATAN           3\n",
       "KOTA TANGERANG             2\n",
       "KABUPATEN GROBOGAN         2\n",
       "KABUPATEN PATI             2\n",
       "KABUPATEN KLATEN           2\n",
       "KABUPATEN BANGKALAN        2\n",
       "KABUPATEN LUMAJANG         2\n",
       "KABUPATEN GRESIK           2\n",
       "KABUPATEN BOGOR            1\n",
       "KOTA TANGERANG SELATAN     1\n",
       "KOTA DEPOK                 1\n",
       "KABUPATEN SRAGEN           1\n",
       "KOTA PARE-PARE             1\n",
       "KABUPATEN MAGETAN          1\n",
       "KOTA PADANG                1\n",
       "KOTA JAKARTA PUSAT         1\n",
       "KALIMANTAN TIMUR           1\n",
       "KOTA PROBOLINGGO           1\n",
       "KOTA JAKARTA SELATAN       1\n",
       "KABUPATEN PANGANDARAN      1\n",
       "KABUPATEN BONDOWOSO        1\n",
       "SULAWESI BARAT             1\n",
       "Name: count, dtype: int64"
      ]
     },
     "execution_count": 47,
     "metadata": {},
     "output_type": "execute_result"
    }
   ],
   "source": [
    "df['Kabupaten/Kota'].value_counts()"
   ]
  },
  {
   "cell_type": "markdown",
   "metadata": {},
   "source": [
    "Interpretasi data :\n",
    "Proyek yang dikerjakan PT Cemerlang Statistika masih terpusat di Pulau Jawa, khususnya ada di Provinsi Jawa Timur. Hal ini wajar karena provinsi ini menjadi awal berdirinya perusahaan.\n",
    "Jika dilihat berdasarkan kotanya, jumlah proyek paling banyak di kerjakan adalah di Kota Blitar dengan total 73 proyek disusul dengan Kabupaten Mojokerto dengan total 62 proyek dan Kabupaten Bojonegoro dengan 43 proyek"
   ]
  },
  {
   "cell_type": "markdown",
   "metadata": {},
   "source": [
    "### Menjawab Pertanyaan ketiga"
   ]
  },
  {
   "cell_type": "markdown",
   "metadata": {},
   "source": [
    "Bagaimana persebaran project StatsMe menurut Instansinya?"
   ]
  },
  {
   "cell_type": "code",
   "execution_count": 48,
   "metadata": {},
   "outputs": [
    {
     "data": {
      "text/plain": [
       "array(['Lain-lain', 'PT. SIER', 'Dinas Koperasi dan Usaha Mikro',\n",
       "       'Sekretariat Daerah', 'Dinas Informasi Komunikasi dan Statistika',\n",
       "       'Dinas Komunikasi dan Informatika',\n",
       "       'Dinas Perindustrian dan Perdagangan',\n",
       "       'Badan Perencanaan Pembangunan Penelitian dan Pengembangan',\n",
       "       'Dinas Penanaman Modal dan Perizinan Terpadu Satu Pintu',\n",
       "       'Dinas Perijinan dan Penanaman Modal', 'Dinas Kesehatan',\n",
       "       'Dinas Koperasi Usaha Mikro dan Tenaga Kerja',\n",
       "       'RSU Dr. Wahidin Sudiro Husodo',\n",
       "       'Dinas Pengendalian Penduduk Keluarga Berencana Pemberdayaan Perempuan Perlindungan Anak',\n",
       "       'Badan Perencanaan dan Pembangunan Daerah',\n",
       "       'Dinas Komunikasi Informatika dan Statistik',\n",
       "       'Dinas Perpustakaan dan Kearsipan', 'Dinas Pendidikan',\n",
       "       'Dinas Kependudukan dan Catatan Sipil',\n",
       "       'Dinas Pariwisata dan Kebudayaan', 'Dinas Tenaga Kerja',\n",
       "       'Dinas Pertanian', 'Badan Perencanaan Pembangunan Daerah',\n",
       "       'RSUD Wahidin', 'DP2KB', 'Dinas Pariwisata',\n",
       "       'Dinas Komunikasi Informasi dan Statistik', 'Dinas Kearsipan',\n",
       "       'Inspektorat', 'Dinas Kependudukan dan Pencatatan Sipil',\n",
       "       'Dinas Koperasi dan UM', 'Dinas Perhubungan',\n",
       "       'Satuan Polisi Pamong Praja', 'Sekretariat daerah',\n",
       "       'Dinas Koperasi Perindustrian dan Perdagangan',\n",
       "       'Dinas Tenaga Kerja Koperasi dan Usaha Mikro',\n",
       "       'Sekretariat Dewan DPRD', 'PT. Depo Bangunan',\n",
       "       'Dinas Kesehatan Pengendalian Penduduk dan Keluarga Berencana',\n",
       "       'RSUD Raden Achmad Basoeni', 'Sekertariat Daerah',\n",
       "       'Dinas Kepemudaan dan Olahraga',\n",
       "       'Dinas Penanaman Modal Tenaga Kerja dan Pelayanan Terpadu Satu Pintu',\n",
       "       'Dinas Pemberdayaan Perempuan Perlindungan Anak Pengendalian Penduduk dan Keluarga Berencana',\n",
       "       'Badan Kesatuan Bangsa Politik dan Penanggulangan Bencana',\n",
       "       'Dinas Perindustrian dan Tenaga Kerja', 'RSUD Sumberrejo',\n",
       "       'Badan Penanggulangan Bencana Daerah',\n",
       "       'Dinas Tanaman Pangan Holtikultura dan Perkebunan',\n",
       "       'Dinas Pekerjaan Umum dan Penataan Ruang',\n",
       "       'Dinas Pemuda dan Olahraga',\n",
       "       'Dinas Penanaman Modal Pelayanan dan Terpadu Satu Pintu',\n",
       "       'Dinas Perpustakaan dan Arsip', 'Dinas Sosial',\n",
       "       'Badan Kesatuan Bangsa dan Politik',\n",
       "       'Dinas Ketahanan Pangan dan Pertanian', 'Sekretariat DPRD',\n",
       "       'Badan Pendapatan Daerah',\n",
       "       'Dinas Pekerjaan Umum dan Sumber Daya Air',\n",
       "       'Dinas Keluarga Berencana Pemberdayaan Perempuan dan Perlindungan Anak',\n",
       "       'Dinas Perdagangan dan Perindustrian', 'Dinas PU Bina Marga',\n",
       "       'Dinas Penanaman Modal Pelayanan Terpadu Satu Pintu',\n",
       "       'Dinas Ketahanan Pangan dan Peternakan',\n",
       "       'Dinas Pengendalian Penduduk Keluarga Berencana Pemberdayaan Perempuan dan Perlindungan Anak',\n",
       "       'Dinas Kesehatan dan Pengendalian Penduduk Keluarga Berencana',\n",
       "       'Dinas Perumahan Rakyat Kawasan Pemukiman dan Pertanahan',\n",
       "       'Dinas Koperasi Usaha Mikro Perdagangan dan Perindustrian',\n",
       "       'Badan Pengelolaan Pendapatan Keuangan dan Aset Daerah',\n",
       "       'Dinas Sosial Pemberdayaan Perempuan dan Perlindungan Anak',\n",
       "       'Dinas Perikanan',\n",
       "       'Dinas Pemberdayaan Perempuan Perlindungan Anak dan Keluarga Berencana',\n",
       "       'Indomaret',\n",
       "       'Dinas Koperasi Usaha Kecil dan Menengah dan Perindustrian',\n",
       "       'Dinas Perdagangan',\n",
       "       'Dinas Kesehatan Pengendalian Penduduk Dan Keluarga Berencana',\n",
       "       'Dinas Penanaman Modal dan Pelayanan Terpadu Satu Pintu',\n",
       "       'Dinas Pertanian dan Ketahanan Pangan', 'Dinas Perumahan Rakyat',\n",
       "       'Dinas Lingkungan Hidup',\n",
       "       'Badan Perencanaan Pembangunan Daerah Penelitian dan Pengembangan',\n",
       "       'Dinas Pekerjaan Umum Sumber Daya Air',\n",
       "       'Rumah Sakit Umum Daerah Sumberrejo',\n",
       "       'Dinas Perpustakaan Dan Kearsipan',\n",
       "       'Dinas Perindustrian Dan Tenaga Kerja',\n",
       "       'Dinas Penanaman Modal Pelayanan Terpadu Satu Pintu dan Tenaga Kerja',\n",
       "       'Dinas Pemberdayaan Perempuan dan Perlindungan Anak',\n",
       "       'Badan Pengadaan Barang dan Jasa',\n",
       "       'Dinas Pemberdayaan Perempuan Dan Perlindungan Anak',\n",
       "       'Dinas Koperasi Usaha Kecil Menengah Perindustrian dan Perdagangan',\n",
       "       'Dinas Pemuda Olahraga dan Pariwisata',\n",
       "       'RSUD Wahidin Sudiro Husodo',\n",
       "       'Badan Kepegawaian Dan Pengembangan Sumber Daya Manusia',\n",
       "       'Badan Perencanaan Pembangunan Riset dan Inovasi Daerah',\n",
       "       'Dinas Pendidikan dan Kebudayaan',\n",
       "       'Badan Perencanaan Pembangunan Penelitian dan Pengembangan Daerah',\n",
       "       'Biro Kesejahteraan Rakyat', 'Dinas Pangan dan Pertanian',\n",
       "       'Rumah Sakit Khusus Daerah Dadi Provinsi Sulawesi Selatan',\n",
       "       'Dinas Pariwisata Kebudayaan Pemuda dan Olahraga', 'RSUD Ngimbang',\n",
       "       'Dinas Kopersi dan Usaha Kecil Menengah', 'RSUD Kota Madiun',\n",
       "       'Dinas Ketenagakerjaan', 'Dinas Ketahanan Pangan',\n",
       "       'Dinas Kearsipan dan Perpustakaan', 'POLRI',\n",
       "       'Dinas Kepemudaan Olahraga dan Pariwisata',\n",
       "       'Dinas Komunikasi Informatika Statistik dan Persandian',\n",
       "       'RSUD Sumberejo', 'RSUD Soedono',\n",
       "       'Dinas Pendidikan Pemuda dan Olahraga',\n",
       "       'Badan Perencanaan Penelitian dan Pengembangan Daerah',\n",
       "       ' Badan Perencanaan Penelitian dan Pengembangan Daerah',\n",
       "       'Dinas Komunikasi Informatika',\n",
       "       'Badan Pengelolaan dan Pendapatan Keuangan Daerah',\n",
       "       'Dinas Perdagangan Koperasi dan Usaha Mikro',\n",
       "       'Dinas Koperasi Usaha Kecil Menengah dan Tenaga Kerja',\n",
       "       'Diinas Komunikasi Informatika dan Statistik',\n",
       "       'Dinas Pertanian dan Pangan',\n",
       "       'Dinas Pemberdayaan Perempuan Perlindungan Anak Dan Keluarga Berencana',\n",
       "       'Dinas Perumahan Kawasan Permukiman Dan Cipta Karya',\n",
       "       'Dinas Koperasi Perindustrian Dan Perdagangan',\n",
       "       'Dinas Pengendalian Penduduk dan Keluarga Berencana',\n",
       "       ' Dinas Kepemudaan Olahraga dan Pariwisata', 'Kecamatan Kepohbaru',\n",
       "       'Badan Perecanaan Pembangunan Daerah',\n",
       "       'Kementerian Lingkungan Hidup dan Kehutanan', 'Persada',\n",
       "       'Great Hotel', 'Dinas Pariwisata dan Kepemudaan Olahraga',\n",
       "       'Dinas Peternakan dan Perikanan',\n",
       "       'Dinas Pemberdayaan Masyarakat Desa',\n",
       "       'Dinas Kebudayaan Pemuda dan Olahraga',\n",
       "       'Dinas Pemberdayaan Perempuan & Perlindungan Anak', 'RSUD Daya '],\n",
       "      dtype=object)"
      ]
     },
     "execution_count": 48,
     "metadata": {},
     "output_type": "execute_result"
    }
   ],
   "source": [
    "df['Dinas/Instansi'].unique()"
   ]
  },
  {
   "cell_type": "code",
   "execution_count": 49,
   "metadata": {},
   "outputs": [
    {
     "data": {
      "text/plain": [
       "Dinas/Instansi\n",
       "Badan Perencanaan Pembangunan Daerah                                                           71\n",
       "Dinas Komunikasi dan Informatika                                                               55\n",
       "Dinas Perindustrian dan Perdagangan                                                            30\n",
       "Dinas Kependudukan dan Pencatatan Sipil                                                        25\n",
       "Sekretariat Daerah                                                                             20\n",
       "                                                                                               ..\n",
       "Dinas Perumahan Rakyat Kawasan Pemukiman dan Pertanahan                                         1\n",
       "Dinas Kesehatan dan Pengendalian Penduduk Keluarga Berencana                                    1\n",
       "Dinas Pengendalian Penduduk Keluarga Berencana Pemberdayaan Perempuan dan Perlindungan Anak     1\n",
       "Dinas Ketahanan Pangan dan Peternakan                                                           1\n",
       "RSUD Daya                                                                                       1\n",
       "Name: count, Length: 136, dtype: int64"
      ]
     },
     "execution_count": 49,
     "metadata": {},
     "output_type": "execute_result"
    }
   ],
   "source": [
    "df['Dinas/Instansi'].value_counts()"
   ]
  },
  {
   "cell_type": "code",
   "execution_count": 50,
   "metadata": {},
   "outputs": [
    {
     "data": {
      "text/plain": [
       "Jenis Instansi\n",
       "Pemerintahan    557\n",
       "Rumah Sakit      18\n",
       "Swasta            5\n",
       "Lain-lain         3\n",
       "Name: count, dtype: int64"
      ]
     },
     "execution_count": 50,
     "metadata": {},
     "output_type": "execute_result"
    }
   ],
   "source": [
    "df['Jenis Instansi'].value_counts()"
   ]
  },
  {
   "cell_type": "code",
   "execution_count": 51,
   "metadata": {},
   "outputs": [],
   "source": [
    "instansi_counts = df['Jenis Instansi'].value_counts()\n",
    "instansi_percent = (instansi_counts / len(df) * 100).round(1)"
   ]
  },
  {
   "cell_type": "code",
   "execution_count": 52,
   "metadata": {},
   "outputs": [
    {
     "data": {
      "application/vnd.plotly.v1+json": {
       "config": {
        "plotlyServerURL": "https://plot.ly"
       },
       "data": [
        {
         "domain": {
          "x": [
           0,
           1
          ],
          "y": [
           0,
           1
          ]
         },
         "hole": 0.4,
         "hovertemplate": "label=%{label}<br>value=%{value}<extra></extra>",
         "labels": [
          "Pemerintahan",
          "Rumah Sakit",
          "Swasta",
          "Lain-lain"
         ],
         "legendgroup": "",
         "name": "",
         "pull": [
          0.1,
          0,
          0,
          0
         ],
         "showlegend": true,
         "textinfo": "percent+label",
         "textposition": "inside",
         "type": "pie",
         "values": [
          95.5,
          3.1,
          0.9,
          0.5
         ]
        }
       ],
       "layout": {
        "height": 500,
        "legend": {
         "tracegroupgap": 0
        },
        "piecolorway": [
         "#00B4D8",
         "#90E0EF",
         "#CAF0F8",
         "#48CAE4"
        ],
        "template": {
         "data": {
          "bar": [
           {
            "error_x": {
             "color": "#2a3f5f"
            },
            "error_y": {
             "color": "#2a3f5f"
            },
            "marker": {
             "line": {
              "color": "#E5ECF6",
              "width": 0.5
             },
             "pattern": {
              "fillmode": "overlay",
              "size": 10,
              "solidity": 0.2
             }
            },
            "type": "bar"
           }
          ],
          "barpolar": [
           {
            "marker": {
             "line": {
              "color": "#E5ECF6",
              "width": 0.5
             },
             "pattern": {
              "fillmode": "overlay",
              "size": 10,
              "solidity": 0.2
             }
            },
            "type": "barpolar"
           }
          ],
          "carpet": [
           {
            "aaxis": {
             "endlinecolor": "#2a3f5f",
             "gridcolor": "white",
             "linecolor": "white",
             "minorgridcolor": "white",
             "startlinecolor": "#2a3f5f"
            },
            "baxis": {
             "endlinecolor": "#2a3f5f",
             "gridcolor": "white",
             "linecolor": "white",
             "minorgridcolor": "white",
             "startlinecolor": "#2a3f5f"
            },
            "type": "carpet"
           }
          ],
          "choropleth": [
           {
            "colorbar": {
             "outlinewidth": 0,
             "ticks": ""
            },
            "type": "choropleth"
           }
          ],
          "contour": [
           {
            "colorbar": {
             "outlinewidth": 0,
             "ticks": ""
            },
            "colorscale": [
             [
              0,
              "#0d0887"
             ],
             [
              0.1111111111111111,
              "#46039f"
             ],
             [
              0.2222222222222222,
              "#7201a8"
             ],
             [
              0.3333333333333333,
              "#9c179e"
             ],
             [
              0.4444444444444444,
              "#bd3786"
             ],
             [
              0.5555555555555556,
              "#d8576b"
             ],
             [
              0.6666666666666666,
              "#ed7953"
             ],
             [
              0.7777777777777778,
              "#fb9f3a"
             ],
             [
              0.8888888888888888,
              "#fdca26"
             ],
             [
              1,
              "#f0f921"
             ]
            ],
            "type": "contour"
           }
          ],
          "contourcarpet": [
           {
            "colorbar": {
             "outlinewidth": 0,
             "ticks": ""
            },
            "type": "contourcarpet"
           }
          ],
          "heatmap": [
           {
            "colorbar": {
             "outlinewidth": 0,
             "ticks": ""
            },
            "colorscale": [
             [
              0,
              "#0d0887"
             ],
             [
              0.1111111111111111,
              "#46039f"
             ],
             [
              0.2222222222222222,
              "#7201a8"
             ],
             [
              0.3333333333333333,
              "#9c179e"
             ],
             [
              0.4444444444444444,
              "#bd3786"
             ],
             [
              0.5555555555555556,
              "#d8576b"
             ],
             [
              0.6666666666666666,
              "#ed7953"
             ],
             [
              0.7777777777777778,
              "#fb9f3a"
             ],
             [
              0.8888888888888888,
              "#fdca26"
             ],
             [
              1,
              "#f0f921"
             ]
            ],
            "type": "heatmap"
           }
          ],
          "heatmapgl": [
           {
            "colorbar": {
             "outlinewidth": 0,
             "ticks": ""
            },
            "colorscale": [
             [
              0,
              "#0d0887"
             ],
             [
              0.1111111111111111,
              "#46039f"
             ],
             [
              0.2222222222222222,
              "#7201a8"
             ],
             [
              0.3333333333333333,
              "#9c179e"
             ],
             [
              0.4444444444444444,
              "#bd3786"
             ],
             [
              0.5555555555555556,
              "#d8576b"
             ],
             [
              0.6666666666666666,
              "#ed7953"
             ],
             [
              0.7777777777777778,
              "#fb9f3a"
             ],
             [
              0.8888888888888888,
              "#fdca26"
             ],
             [
              1,
              "#f0f921"
             ]
            ],
            "type": "heatmapgl"
           }
          ],
          "histogram": [
           {
            "marker": {
             "pattern": {
              "fillmode": "overlay",
              "size": 10,
              "solidity": 0.2
             }
            },
            "type": "histogram"
           }
          ],
          "histogram2d": [
           {
            "colorbar": {
             "outlinewidth": 0,
             "ticks": ""
            },
            "colorscale": [
             [
              0,
              "#0d0887"
             ],
             [
              0.1111111111111111,
              "#46039f"
             ],
             [
              0.2222222222222222,
              "#7201a8"
             ],
             [
              0.3333333333333333,
              "#9c179e"
             ],
             [
              0.4444444444444444,
              "#bd3786"
             ],
             [
              0.5555555555555556,
              "#d8576b"
             ],
             [
              0.6666666666666666,
              "#ed7953"
             ],
             [
              0.7777777777777778,
              "#fb9f3a"
             ],
             [
              0.8888888888888888,
              "#fdca26"
             ],
             [
              1,
              "#f0f921"
             ]
            ],
            "type": "histogram2d"
           }
          ],
          "histogram2dcontour": [
           {
            "colorbar": {
             "outlinewidth": 0,
             "ticks": ""
            },
            "colorscale": [
             [
              0,
              "#0d0887"
             ],
             [
              0.1111111111111111,
              "#46039f"
             ],
             [
              0.2222222222222222,
              "#7201a8"
             ],
             [
              0.3333333333333333,
              "#9c179e"
             ],
             [
              0.4444444444444444,
              "#bd3786"
             ],
             [
              0.5555555555555556,
              "#d8576b"
             ],
             [
              0.6666666666666666,
              "#ed7953"
             ],
             [
              0.7777777777777778,
              "#fb9f3a"
             ],
             [
              0.8888888888888888,
              "#fdca26"
             ],
             [
              1,
              "#f0f921"
             ]
            ],
            "type": "histogram2dcontour"
           }
          ],
          "mesh3d": [
           {
            "colorbar": {
             "outlinewidth": 0,
             "ticks": ""
            },
            "type": "mesh3d"
           }
          ],
          "parcoords": [
           {
            "line": {
             "colorbar": {
              "outlinewidth": 0,
              "ticks": ""
             }
            },
            "type": "parcoords"
           }
          ],
          "pie": [
           {
            "automargin": true,
            "type": "pie"
           }
          ],
          "scatter": [
           {
            "fillpattern": {
             "fillmode": "overlay",
             "size": 10,
             "solidity": 0.2
            },
            "type": "scatter"
           }
          ],
          "scatter3d": [
           {
            "line": {
             "colorbar": {
              "outlinewidth": 0,
              "ticks": ""
             }
            },
            "marker": {
             "colorbar": {
              "outlinewidth": 0,
              "ticks": ""
             }
            },
            "type": "scatter3d"
           }
          ],
          "scattercarpet": [
           {
            "marker": {
             "colorbar": {
              "outlinewidth": 0,
              "ticks": ""
             }
            },
            "type": "scattercarpet"
           }
          ],
          "scattergeo": [
           {
            "marker": {
             "colorbar": {
              "outlinewidth": 0,
              "ticks": ""
             }
            },
            "type": "scattergeo"
           }
          ],
          "scattergl": [
           {
            "marker": {
             "colorbar": {
              "outlinewidth": 0,
              "ticks": ""
             }
            },
            "type": "scattergl"
           }
          ],
          "scattermapbox": [
           {
            "marker": {
             "colorbar": {
              "outlinewidth": 0,
              "ticks": ""
             }
            },
            "type": "scattermapbox"
           }
          ],
          "scatterpolar": [
           {
            "marker": {
             "colorbar": {
              "outlinewidth": 0,
              "ticks": ""
             }
            },
            "type": "scatterpolar"
           }
          ],
          "scatterpolargl": [
           {
            "marker": {
             "colorbar": {
              "outlinewidth": 0,
              "ticks": ""
             }
            },
            "type": "scatterpolargl"
           }
          ],
          "scatterternary": [
           {
            "marker": {
             "colorbar": {
              "outlinewidth": 0,
              "ticks": ""
             }
            },
            "type": "scatterternary"
           }
          ],
          "surface": [
           {
            "colorbar": {
             "outlinewidth": 0,
             "ticks": ""
            },
            "colorscale": [
             [
              0,
              "#0d0887"
             ],
             [
              0.1111111111111111,
              "#46039f"
             ],
             [
              0.2222222222222222,
              "#7201a8"
             ],
             [
              0.3333333333333333,
              "#9c179e"
             ],
             [
              0.4444444444444444,
              "#bd3786"
             ],
             [
              0.5555555555555556,
              "#d8576b"
             ],
             [
              0.6666666666666666,
              "#ed7953"
             ],
             [
              0.7777777777777778,
              "#fb9f3a"
             ],
             [
              0.8888888888888888,
              "#fdca26"
             ],
             [
              1,
              "#f0f921"
             ]
            ],
            "type": "surface"
           }
          ],
          "table": [
           {
            "cells": {
             "fill": {
              "color": "#EBF0F8"
             },
             "line": {
              "color": "white"
             }
            },
            "header": {
             "fill": {
              "color": "#C8D4E3"
             },
             "line": {
              "color": "white"
             }
            },
            "type": "table"
           }
          ]
         },
         "layout": {
          "annotationdefaults": {
           "arrowcolor": "#2a3f5f",
           "arrowhead": 0,
           "arrowwidth": 1
          },
          "autotypenumbers": "strict",
          "coloraxis": {
           "colorbar": {
            "outlinewidth": 0,
            "ticks": ""
           }
          },
          "colorscale": {
           "diverging": [
            [
             0,
             "#8e0152"
            ],
            [
             0.1,
             "#c51b7d"
            ],
            [
             0.2,
             "#de77ae"
            ],
            [
             0.3,
             "#f1b6da"
            ],
            [
             0.4,
             "#fde0ef"
            ],
            [
             0.5,
             "#f7f7f7"
            ],
            [
             0.6,
             "#e6f5d0"
            ],
            [
             0.7,
             "#b8e186"
            ],
            [
             0.8,
             "#7fbc41"
            ],
            [
             0.9,
             "#4d9221"
            ],
            [
             1,
             "#276419"
            ]
           ],
           "sequential": [
            [
             0,
             "#0d0887"
            ],
            [
             0.1111111111111111,
             "#46039f"
            ],
            [
             0.2222222222222222,
             "#7201a8"
            ],
            [
             0.3333333333333333,
             "#9c179e"
            ],
            [
             0.4444444444444444,
             "#bd3786"
            ],
            [
             0.5555555555555556,
             "#d8576b"
            ],
            [
             0.6666666666666666,
             "#ed7953"
            ],
            [
             0.7777777777777778,
             "#fb9f3a"
            ],
            [
             0.8888888888888888,
             "#fdca26"
            ],
            [
             1,
             "#f0f921"
            ]
           ],
           "sequentialminus": [
            [
             0,
             "#0d0887"
            ],
            [
             0.1111111111111111,
             "#46039f"
            ],
            [
             0.2222222222222222,
             "#7201a8"
            ],
            [
             0.3333333333333333,
             "#9c179e"
            ],
            [
             0.4444444444444444,
             "#bd3786"
            ],
            [
             0.5555555555555556,
             "#d8576b"
            ],
            [
             0.6666666666666666,
             "#ed7953"
            ],
            [
             0.7777777777777778,
             "#fb9f3a"
            ],
            [
             0.8888888888888888,
             "#fdca26"
            ],
            [
             1,
             "#f0f921"
            ]
           ]
          },
          "colorway": [
           "#636efa",
           "#EF553B",
           "#00cc96",
           "#ab63fa",
           "#FFA15A",
           "#19d3f3",
           "#FF6692",
           "#B6E880",
           "#FF97FF",
           "#FECB52"
          ],
          "font": {
           "color": "#2a3f5f"
          },
          "geo": {
           "bgcolor": "white",
           "lakecolor": "white",
           "landcolor": "#E5ECF6",
           "showlakes": true,
           "showland": true,
           "subunitcolor": "white"
          },
          "hoverlabel": {
           "align": "left"
          },
          "hovermode": "closest",
          "mapbox": {
           "style": "light"
          },
          "paper_bgcolor": "white",
          "plot_bgcolor": "#E5ECF6",
          "polar": {
           "angularaxis": {
            "gridcolor": "white",
            "linecolor": "white",
            "ticks": ""
           },
           "bgcolor": "#E5ECF6",
           "radialaxis": {
            "gridcolor": "white",
            "linecolor": "white",
            "ticks": ""
           }
          },
          "scene": {
           "xaxis": {
            "backgroundcolor": "#E5ECF6",
            "gridcolor": "white",
            "gridwidth": 2,
            "linecolor": "white",
            "showbackground": true,
            "ticks": "",
            "zerolinecolor": "white"
           },
           "yaxis": {
            "backgroundcolor": "#E5ECF6",
            "gridcolor": "white",
            "gridwidth": 2,
            "linecolor": "white",
            "showbackground": true,
            "ticks": "",
            "zerolinecolor": "white"
           },
           "zaxis": {
            "backgroundcolor": "#E5ECF6",
            "gridcolor": "white",
            "gridwidth": 2,
            "linecolor": "white",
            "showbackground": true,
            "ticks": "",
            "zerolinecolor": "white"
           }
          },
          "shapedefaults": {
           "line": {
            "color": "#2a3f5f"
           }
          },
          "ternary": {
           "aaxis": {
            "gridcolor": "white",
            "linecolor": "white",
            "ticks": ""
           },
           "baxis": {
            "gridcolor": "white",
            "linecolor": "white",
            "ticks": ""
           },
           "bgcolor": "#E5ECF6",
           "caxis": {
            "gridcolor": "white",
            "linecolor": "white",
            "ticks": ""
           }
          },
          "title": {
           "x": 0.05
          },
          "xaxis": {
           "automargin": true,
           "gridcolor": "white",
           "linecolor": "white",
           "ticks": "",
           "title": {
            "standoff": 15
           },
           "zerolinecolor": "white",
           "zerolinewidth": 2
          },
          "yaxis": {
           "automargin": true,
           "gridcolor": "white",
           "linecolor": "white",
           "ticks": "",
           "title": {
            "standoff": 15
           },
           "zerolinecolor": "white",
           "zerolinewidth": 2
          }
         }
        },
        "title": {
         "text": "Persentase Proyek Berdasarkan Jenis Instansi"
        }
       }
      }
     },
     "metadata": {},
     "output_type": "display_data"
    },
    {
     "name": "stdout",
     "output_type": "stream",
     "text": [
      "\n",
      "Persentase per Jenis Instansi:\n",
      "Pemerintahan: 95.5%\n",
      "Rumah Sakit: 3.1%\n",
      "Swasta: 0.9%\n",
      "Lain-lain: 0.5%\n"
     ]
    }
   ],
   "source": [
    "# Buat visualisasi pie chart menggunakan plotly\n",
    "fig_pie = px.pie(\n",
    "    values=instansi_percent.values,\n",
    "    names=instansi_percent.index,\n",
    "    title='Persentase Proyek Berdasarkan Jenis Instansi',\n",
    "    height=500,\n",
    "    color_discrete_sequence=['#00B4D8', '#90E0EF', '#CAF0F8', '#48CAE4']\n",
    ")\n",
    "\n",
    "# Kustomisasi tampilan\n",
    "fig_pie.update_traces(\n",
    "    textposition='inside',\n",
    "    textinfo='percent+label',\n",
    "    hole=0.4,\n",
    "    pull=[0.1 if i == 0 else 0 for i in range(len(instansi_percent))]\n",
    ")\n",
    "\n",
    "# Tampilkan chart\n",
    "fig_pie.show()\n",
    "\n",
    "# Tampilkan persentase dalam bentuk teks\n",
    "print(\"\\nPersentase per Jenis Instansi:\")\n",
    "for instansi, persen in instansi_percent.items():\n",
    "    print(f\"{instansi}: {persen}%\")"
   ]
  },
  {
   "cell_type": "markdown",
   "metadata": {},
   "source": [
    "Interpretasi data :\n",
    "Proyek yang dikerjakan PT Cemerlang Statistika lebih dominan berada pada sektor pemerintahan, terbukti bahwa 95.5% proyek yang dikerjakan ada di Instansi Pemerintahan dengan total 557 proyek, disusul dangan Rumah Sakit dengan 18 Proyek (3.1%), Instansi Swasta 5 proyek (0.9%) dan Instansi Lain 3 Proyek (0.5%). "
   ]
  },
  {
   "cell_type": "markdown",
   "metadata": {},
   "source": [
    "### Menjawab Pertanyaan Ke empat"
   ]
  },
  {
   "cell_type": "markdown",
   "metadata": {},
   "source": [
    "Bagaimana persebaran project StatsMe menurut Kantor Pengerjaanya?"
   ]
  },
  {
   "cell_type": "code",
   "execution_count": 53,
   "metadata": {},
   "outputs": [
    {
     "data": {
      "text/plain": [
       "Kantor\n",
       "Kantor Pusat        545\n",
       "Jawa Tengah          17\n",
       "Jawa Barat           11\n",
       "Sulawesi Selatan     10\n",
       "Name: count, dtype: int64"
      ]
     },
     "execution_count": 53,
     "metadata": {},
     "output_type": "execute_result"
    }
   ],
   "source": [
    "df['Kantor'].value_counts()"
   ]
  },
  {
   "cell_type": "code",
   "execution_count": 54,
   "metadata": {},
   "outputs": [],
   "source": [
    "kantor_counts = df['Kantor'].value_counts()\n",
    "kantor_percent = (kantor_counts / len(df) * 100).round(1)"
   ]
  },
  {
   "cell_type": "code",
   "execution_count": 55,
   "metadata": {},
   "outputs": [
    {
     "data": {
      "application/vnd.plotly.v1+json": {
       "config": {
        "plotlyServerURL": "https://plot.ly"
       },
       "data": [
        {
         "domain": {
          "x": [
           0,
           1
          ],
          "y": [
           0,
           1
          ]
         },
         "hole": 0.4,
         "hovertemplate": "label=%{label}<br>value=%{value}<extra></extra>",
         "labels": [
          "Kantor Pusat",
          "Jawa Tengah",
          "Jawa Barat",
          "Sulawesi Selatan"
         ],
         "legendgroup": "",
         "name": "",
         "pull": [
          0.1,
          0,
          0,
          0
         ],
         "showlegend": true,
         "textinfo": "percent+label",
         "textposition": "inside",
         "type": "pie",
         "values": [
          93.5,
          2.9,
          1.9,
          1.7
         ]
        }
       ],
       "layout": {
        "height": 400,
        "legend": {
         "tracegroupgap": 0
        },
        "piecolorway": [
         "#00B4D8",
         "#90E0EF",
         "#CAF0F8",
         "#48CAE4"
        ],
        "template": {
         "data": {
          "bar": [
           {
            "error_x": {
             "color": "#2a3f5f"
            },
            "error_y": {
             "color": "#2a3f5f"
            },
            "marker": {
             "line": {
              "color": "#E5ECF6",
              "width": 0.5
             },
             "pattern": {
              "fillmode": "overlay",
              "size": 10,
              "solidity": 0.2
             }
            },
            "type": "bar"
           }
          ],
          "barpolar": [
           {
            "marker": {
             "line": {
              "color": "#E5ECF6",
              "width": 0.5
             },
             "pattern": {
              "fillmode": "overlay",
              "size": 10,
              "solidity": 0.2
             }
            },
            "type": "barpolar"
           }
          ],
          "carpet": [
           {
            "aaxis": {
             "endlinecolor": "#2a3f5f",
             "gridcolor": "white",
             "linecolor": "white",
             "minorgridcolor": "white",
             "startlinecolor": "#2a3f5f"
            },
            "baxis": {
             "endlinecolor": "#2a3f5f",
             "gridcolor": "white",
             "linecolor": "white",
             "minorgridcolor": "white",
             "startlinecolor": "#2a3f5f"
            },
            "type": "carpet"
           }
          ],
          "choropleth": [
           {
            "colorbar": {
             "outlinewidth": 0,
             "ticks": ""
            },
            "type": "choropleth"
           }
          ],
          "contour": [
           {
            "colorbar": {
             "outlinewidth": 0,
             "ticks": ""
            },
            "colorscale": [
             [
              0,
              "#0d0887"
             ],
             [
              0.1111111111111111,
              "#46039f"
             ],
             [
              0.2222222222222222,
              "#7201a8"
             ],
             [
              0.3333333333333333,
              "#9c179e"
             ],
             [
              0.4444444444444444,
              "#bd3786"
             ],
             [
              0.5555555555555556,
              "#d8576b"
             ],
             [
              0.6666666666666666,
              "#ed7953"
             ],
             [
              0.7777777777777778,
              "#fb9f3a"
             ],
             [
              0.8888888888888888,
              "#fdca26"
             ],
             [
              1,
              "#f0f921"
             ]
            ],
            "type": "contour"
           }
          ],
          "contourcarpet": [
           {
            "colorbar": {
             "outlinewidth": 0,
             "ticks": ""
            },
            "type": "contourcarpet"
           }
          ],
          "heatmap": [
           {
            "colorbar": {
             "outlinewidth": 0,
             "ticks": ""
            },
            "colorscale": [
             [
              0,
              "#0d0887"
             ],
             [
              0.1111111111111111,
              "#46039f"
             ],
             [
              0.2222222222222222,
              "#7201a8"
             ],
             [
              0.3333333333333333,
              "#9c179e"
             ],
             [
              0.4444444444444444,
              "#bd3786"
             ],
             [
              0.5555555555555556,
              "#d8576b"
             ],
             [
              0.6666666666666666,
              "#ed7953"
             ],
             [
              0.7777777777777778,
              "#fb9f3a"
             ],
             [
              0.8888888888888888,
              "#fdca26"
             ],
             [
              1,
              "#f0f921"
             ]
            ],
            "type": "heatmap"
           }
          ],
          "heatmapgl": [
           {
            "colorbar": {
             "outlinewidth": 0,
             "ticks": ""
            },
            "colorscale": [
             [
              0,
              "#0d0887"
             ],
             [
              0.1111111111111111,
              "#46039f"
             ],
             [
              0.2222222222222222,
              "#7201a8"
             ],
             [
              0.3333333333333333,
              "#9c179e"
             ],
             [
              0.4444444444444444,
              "#bd3786"
             ],
             [
              0.5555555555555556,
              "#d8576b"
             ],
             [
              0.6666666666666666,
              "#ed7953"
             ],
             [
              0.7777777777777778,
              "#fb9f3a"
             ],
             [
              0.8888888888888888,
              "#fdca26"
             ],
             [
              1,
              "#f0f921"
             ]
            ],
            "type": "heatmapgl"
           }
          ],
          "histogram": [
           {
            "marker": {
             "pattern": {
              "fillmode": "overlay",
              "size": 10,
              "solidity": 0.2
             }
            },
            "type": "histogram"
           }
          ],
          "histogram2d": [
           {
            "colorbar": {
             "outlinewidth": 0,
             "ticks": ""
            },
            "colorscale": [
             [
              0,
              "#0d0887"
             ],
             [
              0.1111111111111111,
              "#46039f"
             ],
             [
              0.2222222222222222,
              "#7201a8"
             ],
             [
              0.3333333333333333,
              "#9c179e"
             ],
             [
              0.4444444444444444,
              "#bd3786"
             ],
             [
              0.5555555555555556,
              "#d8576b"
             ],
             [
              0.6666666666666666,
              "#ed7953"
             ],
             [
              0.7777777777777778,
              "#fb9f3a"
             ],
             [
              0.8888888888888888,
              "#fdca26"
             ],
             [
              1,
              "#f0f921"
             ]
            ],
            "type": "histogram2d"
           }
          ],
          "histogram2dcontour": [
           {
            "colorbar": {
             "outlinewidth": 0,
             "ticks": ""
            },
            "colorscale": [
             [
              0,
              "#0d0887"
             ],
             [
              0.1111111111111111,
              "#46039f"
             ],
             [
              0.2222222222222222,
              "#7201a8"
             ],
             [
              0.3333333333333333,
              "#9c179e"
             ],
             [
              0.4444444444444444,
              "#bd3786"
             ],
             [
              0.5555555555555556,
              "#d8576b"
             ],
             [
              0.6666666666666666,
              "#ed7953"
             ],
             [
              0.7777777777777778,
              "#fb9f3a"
             ],
             [
              0.8888888888888888,
              "#fdca26"
             ],
             [
              1,
              "#f0f921"
             ]
            ],
            "type": "histogram2dcontour"
           }
          ],
          "mesh3d": [
           {
            "colorbar": {
             "outlinewidth": 0,
             "ticks": ""
            },
            "type": "mesh3d"
           }
          ],
          "parcoords": [
           {
            "line": {
             "colorbar": {
              "outlinewidth": 0,
              "ticks": ""
             }
            },
            "type": "parcoords"
           }
          ],
          "pie": [
           {
            "automargin": true,
            "type": "pie"
           }
          ],
          "scatter": [
           {
            "fillpattern": {
             "fillmode": "overlay",
             "size": 10,
             "solidity": 0.2
            },
            "type": "scatter"
           }
          ],
          "scatter3d": [
           {
            "line": {
             "colorbar": {
              "outlinewidth": 0,
              "ticks": ""
             }
            },
            "marker": {
             "colorbar": {
              "outlinewidth": 0,
              "ticks": ""
             }
            },
            "type": "scatter3d"
           }
          ],
          "scattercarpet": [
           {
            "marker": {
             "colorbar": {
              "outlinewidth": 0,
              "ticks": ""
             }
            },
            "type": "scattercarpet"
           }
          ],
          "scattergeo": [
           {
            "marker": {
             "colorbar": {
              "outlinewidth": 0,
              "ticks": ""
             }
            },
            "type": "scattergeo"
           }
          ],
          "scattergl": [
           {
            "marker": {
             "colorbar": {
              "outlinewidth": 0,
              "ticks": ""
             }
            },
            "type": "scattergl"
           }
          ],
          "scattermapbox": [
           {
            "marker": {
             "colorbar": {
              "outlinewidth": 0,
              "ticks": ""
             }
            },
            "type": "scattermapbox"
           }
          ],
          "scatterpolar": [
           {
            "marker": {
             "colorbar": {
              "outlinewidth": 0,
              "ticks": ""
             }
            },
            "type": "scatterpolar"
           }
          ],
          "scatterpolargl": [
           {
            "marker": {
             "colorbar": {
              "outlinewidth": 0,
              "ticks": ""
             }
            },
            "type": "scatterpolargl"
           }
          ],
          "scatterternary": [
           {
            "marker": {
             "colorbar": {
              "outlinewidth": 0,
              "ticks": ""
             }
            },
            "type": "scatterternary"
           }
          ],
          "surface": [
           {
            "colorbar": {
             "outlinewidth": 0,
             "ticks": ""
            },
            "colorscale": [
             [
              0,
              "#0d0887"
             ],
             [
              0.1111111111111111,
              "#46039f"
             ],
             [
              0.2222222222222222,
              "#7201a8"
             ],
             [
              0.3333333333333333,
              "#9c179e"
             ],
             [
              0.4444444444444444,
              "#bd3786"
             ],
             [
              0.5555555555555556,
              "#d8576b"
             ],
             [
              0.6666666666666666,
              "#ed7953"
             ],
             [
              0.7777777777777778,
              "#fb9f3a"
             ],
             [
              0.8888888888888888,
              "#fdca26"
             ],
             [
              1,
              "#f0f921"
             ]
            ],
            "type": "surface"
           }
          ],
          "table": [
           {
            "cells": {
             "fill": {
              "color": "#EBF0F8"
             },
             "line": {
              "color": "white"
             }
            },
            "header": {
             "fill": {
              "color": "#C8D4E3"
             },
             "line": {
              "color": "white"
             }
            },
            "type": "table"
           }
          ]
         },
         "layout": {
          "annotationdefaults": {
           "arrowcolor": "#2a3f5f",
           "arrowhead": 0,
           "arrowwidth": 1
          },
          "autotypenumbers": "strict",
          "coloraxis": {
           "colorbar": {
            "outlinewidth": 0,
            "ticks": ""
           }
          },
          "colorscale": {
           "diverging": [
            [
             0,
             "#8e0152"
            ],
            [
             0.1,
             "#c51b7d"
            ],
            [
             0.2,
             "#de77ae"
            ],
            [
             0.3,
             "#f1b6da"
            ],
            [
             0.4,
             "#fde0ef"
            ],
            [
             0.5,
             "#f7f7f7"
            ],
            [
             0.6,
             "#e6f5d0"
            ],
            [
             0.7,
             "#b8e186"
            ],
            [
             0.8,
             "#7fbc41"
            ],
            [
             0.9,
             "#4d9221"
            ],
            [
             1,
             "#276419"
            ]
           ],
           "sequential": [
            [
             0,
             "#0d0887"
            ],
            [
             0.1111111111111111,
             "#46039f"
            ],
            [
             0.2222222222222222,
             "#7201a8"
            ],
            [
             0.3333333333333333,
             "#9c179e"
            ],
            [
             0.4444444444444444,
             "#bd3786"
            ],
            [
             0.5555555555555556,
             "#d8576b"
            ],
            [
             0.6666666666666666,
             "#ed7953"
            ],
            [
             0.7777777777777778,
             "#fb9f3a"
            ],
            [
             0.8888888888888888,
             "#fdca26"
            ],
            [
             1,
             "#f0f921"
            ]
           ],
           "sequentialminus": [
            [
             0,
             "#0d0887"
            ],
            [
             0.1111111111111111,
             "#46039f"
            ],
            [
             0.2222222222222222,
             "#7201a8"
            ],
            [
             0.3333333333333333,
             "#9c179e"
            ],
            [
             0.4444444444444444,
             "#bd3786"
            ],
            [
             0.5555555555555556,
             "#d8576b"
            ],
            [
             0.6666666666666666,
             "#ed7953"
            ],
            [
             0.7777777777777778,
             "#fb9f3a"
            ],
            [
             0.8888888888888888,
             "#fdca26"
            ],
            [
             1,
             "#f0f921"
            ]
           ]
          },
          "colorway": [
           "#636efa",
           "#EF553B",
           "#00cc96",
           "#ab63fa",
           "#FFA15A",
           "#19d3f3",
           "#FF6692",
           "#B6E880",
           "#FF97FF",
           "#FECB52"
          ],
          "font": {
           "color": "#2a3f5f"
          },
          "geo": {
           "bgcolor": "white",
           "lakecolor": "white",
           "landcolor": "#E5ECF6",
           "showlakes": true,
           "showland": true,
           "subunitcolor": "white"
          },
          "hoverlabel": {
           "align": "left"
          },
          "hovermode": "closest",
          "mapbox": {
           "style": "light"
          },
          "paper_bgcolor": "white",
          "plot_bgcolor": "#E5ECF6",
          "polar": {
           "angularaxis": {
            "gridcolor": "white",
            "linecolor": "white",
            "ticks": ""
           },
           "bgcolor": "#E5ECF6",
           "radialaxis": {
            "gridcolor": "white",
            "linecolor": "white",
            "ticks": ""
           }
          },
          "scene": {
           "xaxis": {
            "backgroundcolor": "#E5ECF6",
            "gridcolor": "white",
            "gridwidth": 2,
            "linecolor": "white",
            "showbackground": true,
            "ticks": "",
            "zerolinecolor": "white"
           },
           "yaxis": {
            "backgroundcolor": "#E5ECF6",
            "gridcolor": "white",
            "gridwidth": 2,
            "linecolor": "white",
            "showbackground": true,
            "ticks": "",
            "zerolinecolor": "white"
           },
           "zaxis": {
            "backgroundcolor": "#E5ECF6",
            "gridcolor": "white",
            "gridwidth": 2,
            "linecolor": "white",
            "showbackground": true,
            "ticks": "",
            "zerolinecolor": "white"
           }
          },
          "shapedefaults": {
           "line": {
            "color": "#2a3f5f"
           }
          },
          "ternary": {
           "aaxis": {
            "gridcolor": "white",
            "linecolor": "white",
            "ticks": ""
           },
           "baxis": {
            "gridcolor": "white",
            "linecolor": "white",
            "ticks": ""
           },
           "bgcolor": "#E5ECF6",
           "caxis": {
            "gridcolor": "white",
            "linecolor": "white",
            "ticks": ""
           }
          },
          "title": {
           "x": 0.05
          },
          "xaxis": {
           "automargin": true,
           "gridcolor": "white",
           "linecolor": "white",
           "ticks": "",
           "title": {
            "standoff": 15
           },
           "zerolinecolor": "white",
           "zerolinewidth": 2
          },
          "yaxis": {
           "automargin": true,
           "gridcolor": "white",
           "linecolor": "white",
           "ticks": "",
           "title": {
            "standoff": 15
           },
           "zerolinecolor": "white",
           "zerolinewidth": 2
          }
         }
        },
        "title": {
         "text": "Persentase Proyek Berdasarkan Kantor"
        }
       }
      }
     },
     "metadata": {},
     "output_type": "display_data"
    }
   ],
   "source": [
    "fig_pie = px.pie(\n",
    "    values=kantor_percent.values, \n",
    "    names=kantor_percent.index,\n",
    "    title='Persentase Proyek Berdasarkan Kantor',\n",
    "    height=400,\n",
    "    color_discrete_sequence=['#00B4D8', '#90E0EF', '#CAF0F8', '#48CAE4'])\n",
    "\n",
    "fig_pie.update_traces(\n",
    "    textposition='inside',\n",
    "    textinfo='percent+label',\n",
    "    hole=0.4,\n",
    "    pull=[0.1 if i == 0 else 0 for i in range(len(kantor_percent))])\n",
    "\n",
    "fig_pie.show()"
   ]
  },
  {
   "cell_type": "markdown",
   "metadata": {},
   "source": [
    "Interpretasi data :\n",
    "Kantor Jawa Timur sejauh ini melaksanakan proyek paling banyak dengan total 545 proyek atau 93.5% dari keseluruhan proyek, hal ini terjadi karena Kantor Jawa Timur berdiri lebih awal dari kantor cabang yang lain, melalui grafik ini juga menambah penguatan bahwa proyek yang dikerjakan PT Cemerlang Statistika masih terpusat dipulau jawa, khususnya ada di Provinsi Jawa Timur. Namun perlahan dalam kantor cabang lain yang juga sudah banyak menerima proyek diantaranya : Kantor Cabang Jawa Tengah dengan 17 Proyek (2.9%), Kantor Cabang Jawa Barat dengan 11 Proyek (1.8%) dan Kantor Cabang Sulawesi Selatan dengan 10 Proyek (1.7%). "
   ]
  },
  {
   "cell_type": "markdown",
   "metadata": {},
   "source": [
    "### Menjawab Pertanyaan Kelima"
   ]
  },
  {
   "cell_type": "markdown",
   "metadata": {},
   "source": [
    "Rasio Jumlah Karyawan dengan Jumlah Proyek yang dikerjakan"
   ]
  },
  {
   "cell_type": "code",
   "execution_count": 56,
   "metadata": {},
   "outputs": [],
   "source": [
    "df_karyawan = pd.read_excel('Jumlah Karyawan STATSME.xlsx')"
   ]
  },
  {
   "cell_type": "code",
   "execution_count": 57,
   "metadata": {},
   "outputs": [
    {
     "data": {
      "application/vnd.plotly.v1+json": {
       "config": {
        "plotlyServerURL": "https://plot.ly"
       },
       "data": [
        {
         "hovertemplate": "variable=Jumlah Karyawan<br>Tahun=%{x}<br>value=%{y}<extra></extra>",
         "legendgroup": "Jumlah Karyawan",
         "line": {
          "color": "#00B4D8",
          "dash": "solid",
          "width": 3
         },
         "marker": {
          "symbol": "circle"
         },
         "mode": "lines",
         "name": "Jumlah Karyawan",
         "orientation": "v",
         "showlegend": true,
         "type": "scatter",
         "x": [
          2017,
          2018,
          2019,
          2020,
          2021,
          2022,
          2023,
          2024
         ],
         "xaxis": "x",
         "y": [
          3,
          5,
          10,
          15,
          25,
          30,
          32,
          39
         ],
         "yaxis": "y"
        },
        {
         "hovertemplate": "variable=Total Proyek<br>Tahun=%{x}<br>value=%{y}<extra></extra>",
         "legendgroup": "Total Proyek",
         "line": {
          "color": "#FF6B6B",
          "dash": "solid",
          "width": 3
         },
         "marker": {
          "symbol": "circle"
         },
         "mode": "lines",
         "name": "Total Proyek",
         "orientation": "v",
         "showlegend": true,
         "type": "scatter",
         "x": [
          2017,
          2018,
          2019,
          2020,
          2021,
          2022,
          2023,
          2024
         ],
         "xaxis": "x",
         "y": [
          5,
          24,
          29,
          67,
          42,
          120,
          113,
          190
         ],
         "yaxis": "y"
        }
       ],
       "layout": {
        "height": 400,
        "legend": {
         "title": {
          "text": "variable"
         },
         "tracegroupgap": 0
        },
        "margin": {
         "t": 60
        },
        "template": {
         "data": {
          "bar": [
           {
            "error_x": {
             "color": "#2a3f5f"
            },
            "error_y": {
             "color": "#2a3f5f"
            },
            "marker": {
             "line": {
              "color": "#E5ECF6",
              "width": 0.5
             },
             "pattern": {
              "fillmode": "overlay",
              "size": 10,
              "solidity": 0.2
             }
            },
            "type": "bar"
           }
          ],
          "barpolar": [
           {
            "marker": {
             "line": {
              "color": "#E5ECF6",
              "width": 0.5
             },
             "pattern": {
              "fillmode": "overlay",
              "size": 10,
              "solidity": 0.2
             }
            },
            "type": "barpolar"
           }
          ],
          "carpet": [
           {
            "aaxis": {
             "endlinecolor": "#2a3f5f",
             "gridcolor": "white",
             "linecolor": "white",
             "minorgridcolor": "white",
             "startlinecolor": "#2a3f5f"
            },
            "baxis": {
             "endlinecolor": "#2a3f5f",
             "gridcolor": "white",
             "linecolor": "white",
             "minorgridcolor": "white",
             "startlinecolor": "#2a3f5f"
            },
            "type": "carpet"
           }
          ],
          "choropleth": [
           {
            "colorbar": {
             "outlinewidth": 0,
             "ticks": ""
            },
            "type": "choropleth"
           }
          ],
          "contour": [
           {
            "colorbar": {
             "outlinewidth": 0,
             "ticks": ""
            },
            "colorscale": [
             [
              0,
              "#0d0887"
             ],
             [
              0.1111111111111111,
              "#46039f"
             ],
             [
              0.2222222222222222,
              "#7201a8"
             ],
             [
              0.3333333333333333,
              "#9c179e"
             ],
             [
              0.4444444444444444,
              "#bd3786"
             ],
             [
              0.5555555555555556,
              "#d8576b"
             ],
             [
              0.6666666666666666,
              "#ed7953"
             ],
             [
              0.7777777777777778,
              "#fb9f3a"
             ],
             [
              0.8888888888888888,
              "#fdca26"
             ],
             [
              1,
              "#f0f921"
             ]
            ],
            "type": "contour"
           }
          ],
          "contourcarpet": [
           {
            "colorbar": {
             "outlinewidth": 0,
             "ticks": ""
            },
            "type": "contourcarpet"
           }
          ],
          "heatmap": [
           {
            "colorbar": {
             "outlinewidth": 0,
             "ticks": ""
            },
            "colorscale": [
             [
              0,
              "#0d0887"
             ],
             [
              0.1111111111111111,
              "#46039f"
             ],
             [
              0.2222222222222222,
              "#7201a8"
             ],
             [
              0.3333333333333333,
              "#9c179e"
             ],
             [
              0.4444444444444444,
              "#bd3786"
             ],
             [
              0.5555555555555556,
              "#d8576b"
             ],
             [
              0.6666666666666666,
              "#ed7953"
             ],
             [
              0.7777777777777778,
              "#fb9f3a"
             ],
             [
              0.8888888888888888,
              "#fdca26"
             ],
             [
              1,
              "#f0f921"
             ]
            ],
            "type": "heatmap"
           }
          ],
          "heatmapgl": [
           {
            "colorbar": {
             "outlinewidth": 0,
             "ticks": ""
            },
            "colorscale": [
             [
              0,
              "#0d0887"
             ],
             [
              0.1111111111111111,
              "#46039f"
             ],
             [
              0.2222222222222222,
              "#7201a8"
             ],
             [
              0.3333333333333333,
              "#9c179e"
             ],
             [
              0.4444444444444444,
              "#bd3786"
             ],
             [
              0.5555555555555556,
              "#d8576b"
             ],
             [
              0.6666666666666666,
              "#ed7953"
             ],
             [
              0.7777777777777778,
              "#fb9f3a"
             ],
             [
              0.8888888888888888,
              "#fdca26"
             ],
             [
              1,
              "#f0f921"
             ]
            ],
            "type": "heatmapgl"
           }
          ],
          "histogram": [
           {
            "marker": {
             "pattern": {
              "fillmode": "overlay",
              "size": 10,
              "solidity": 0.2
             }
            },
            "type": "histogram"
           }
          ],
          "histogram2d": [
           {
            "colorbar": {
             "outlinewidth": 0,
             "ticks": ""
            },
            "colorscale": [
             [
              0,
              "#0d0887"
             ],
             [
              0.1111111111111111,
              "#46039f"
             ],
             [
              0.2222222222222222,
              "#7201a8"
             ],
             [
              0.3333333333333333,
              "#9c179e"
             ],
             [
              0.4444444444444444,
              "#bd3786"
             ],
             [
              0.5555555555555556,
              "#d8576b"
             ],
             [
              0.6666666666666666,
              "#ed7953"
             ],
             [
              0.7777777777777778,
              "#fb9f3a"
             ],
             [
              0.8888888888888888,
              "#fdca26"
             ],
             [
              1,
              "#f0f921"
             ]
            ],
            "type": "histogram2d"
           }
          ],
          "histogram2dcontour": [
           {
            "colorbar": {
             "outlinewidth": 0,
             "ticks": ""
            },
            "colorscale": [
             [
              0,
              "#0d0887"
             ],
             [
              0.1111111111111111,
              "#46039f"
             ],
             [
              0.2222222222222222,
              "#7201a8"
             ],
             [
              0.3333333333333333,
              "#9c179e"
             ],
             [
              0.4444444444444444,
              "#bd3786"
             ],
             [
              0.5555555555555556,
              "#d8576b"
             ],
             [
              0.6666666666666666,
              "#ed7953"
             ],
             [
              0.7777777777777778,
              "#fb9f3a"
             ],
             [
              0.8888888888888888,
              "#fdca26"
             ],
             [
              1,
              "#f0f921"
             ]
            ],
            "type": "histogram2dcontour"
           }
          ],
          "mesh3d": [
           {
            "colorbar": {
             "outlinewidth": 0,
             "ticks": ""
            },
            "type": "mesh3d"
           }
          ],
          "parcoords": [
           {
            "line": {
             "colorbar": {
              "outlinewidth": 0,
              "ticks": ""
             }
            },
            "type": "parcoords"
           }
          ],
          "pie": [
           {
            "automargin": true,
            "type": "pie"
           }
          ],
          "scatter": [
           {
            "fillpattern": {
             "fillmode": "overlay",
             "size": 10,
             "solidity": 0.2
            },
            "type": "scatter"
           }
          ],
          "scatter3d": [
           {
            "line": {
             "colorbar": {
              "outlinewidth": 0,
              "ticks": ""
             }
            },
            "marker": {
             "colorbar": {
              "outlinewidth": 0,
              "ticks": ""
             }
            },
            "type": "scatter3d"
           }
          ],
          "scattercarpet": [
           {
            "marker": {
             "colorbar": {
              "outlinewidth": 0,
              "ticks": ""
             }
            },
            "type": "scattercarpet"
           }
          ],
          "scattergeo": [
           {
            "marker": {
             "colorbar": {
              "outlinewidth": 0,
              "ticks": ""
             }
            },
            "type": "scattergeo"
           }
          ],
          "scattergl": [
           {
            "marker": {
             "colorbar": {
              "outlinewidth": 0,
              "ticks": ""
             }
            },
            "type": "scattergl"
           }
          ],
          "scattermapbox": [
           {
            "marker": {
             "colorbar": {
              "outlinewidth": 0,
              "ticks": ""
             }
            },
            "type": "scattermapbox"
           }
          ],
          "scatterpolar": [
           {
            "marker": {
             "colorbar": {
              "outlinewidth": 0,
              "ticks": ""
             }
            },
            "type": "scatterpolar"
           }
          ],
          "scatterpolargl": [
           {
            "marker": {
             "colorbar": {
              "outlinewidth": 0,
              "ticks": ""
             }
            },
            "type": "scatterpolargl"
           }
          ],
          "scatterternary": [
           {
            "marker": {
             "colorbar": {
              "outlinewidth": 0,
              "ticks": ""
             }
            },
            "type": "scatterternary"
           }
          ],
          "surface": [
           {
            "colorbar": {
             "outlinewidth": 0,
             "ticks": ""
            },
            "colorscale": [
             [
              0,
              "#0d0887"
             ],
             [
              0.1111111111111111,
              "#46039f"
             ],
             [
              0.2222222222222222,
              "#7201a8"
             ],
             [
              0.3333333333333333,
              "#9c179e"
             ],
             [
              0.4444444444444444,
              "#bd3786"
             ],
             [
              0.5555555555555556,
              "#d8576b"
             ],
             [
              0.6666666666666666,
              "#ed7953"
             ],
             [
              0.7777777777777778,
              "#fb9f3a"
             ],
             [
              0.8888888888888888,
              "#fdca26"
             ],
             [
              1,
              "#f0f921"
             ]
            ],
            "type": "surface"
           }
          ],
          "table": [
           {
            "cells": {
             "fill": {
              "color": "#EBF0F8"
             },
             "line": {
              "color": "white"
             }
            },
            "header": {
             "fill": {
              "color": "#C8D4E3"
             },
             "line": {
              "color": "white"
             }
            },
            "type": "table"
           }
          ]
         },
         "layout": {
          "annotationdefaults": {
           "arrowcolor": "#2a3f5f",
           "arrowhead": 0,
           "arrowwidth": 1
          },
          "autotypenumbers": "strict",
          "coloraxis": {
           "colorbar": {
            "outlinewidth": 0,
            "ticks": ""
           }
          },
          "colorscale": {
           "diverging": [
            [
             0,
             "#8e0152"
            ],
            [
             0.1,
             "#c51b7d"
            ],
            [
             0.2,
             "#de77ae"
            ],
            [
             0.3,
             "#f1b6da"
            ],
            [
             0.4,
             "#fde0ef"
            ],
            [
             0.5,
             "#f7f7f7"
            ],
            [
             0.6,
             "#e6f5d0"
            ],
            [
             0.7,
             "#b8e186"
            ],
            [
             0.8,
             "#7fbc41"
            ],
            [
             0.9,
             "#4d9221"
            ],
            [
             1,
             "#276419"
            ]
           ],
           "sequential": [
            [
             0,
             "#0d0887"
            ],
            [
             0.1111111111111111,
             "#46039f"
            ],
            [
             0.2222222222222222,
             "#7201a8"
            ],
            [
             0.3333333333333333,
             "#9c179e"
            ],
            [
             0.4444444444444444,
             "#bd3786"
            ],
            [
             0.5555555555555556,
             "#d8576b"
            ],
            [
             0.6666666666666666,
             "#ed7953"
            ],
            [
             0.7777777777777778,
             "#fb9f3a"
            ],
            [
             0.8888888888888888,
             "#fdca26"
            ],
            [
             1,
             "#f0f921"
            ]
           ],
           "sequentialminus": [
            [
             0,
             "#0d0887"
            ],
            [
             0.1111111111111111,
             "#46039f"
            ],
            [
             0.2222222222222222,
             "#7201a8"
            ],
            [
             0.3333333333333333,
             "#9c179e"
            ],
            [
             0.4444444444444444,
             "#bd3786"
            ],
            [
             0.5555555555555556,
             "#d8576b"
            ],
            [
             0.6666666666666666,
             "#ed7953"
            ],
            [
             0.7777777777777778,
             "#fb9f3a"
            ],
            [
             0.8888888888888888,
             "#fdca26"
            ],
            [
             1,
             "#f0f921"
            ]
           ]
          },
          "colorway": [
           "#636efa",
           "#EF553B",
           "#00cc96",
           "#ab63fa",
           "#FFA15A",
           "#19d3f3",
           "#FF6692",
           "#B6E880",
           "#FF97FF",
           "#FECB52"
          ],
          "font": {
           "color": "#2a3f5f"
          },
          "geo": {
           "bgcolor": "white",
           "lakecolor": "white",
           "landcolor": "#E5ECF6",
           "showlakes": true,
           "showland": true,
           "subunitcolor": "white"
          },
          "hoverlabel": {
           "align": "left"
          },
          "hovermode": "closest",
          "mapbox": {
           "style": "light"
          },
          "paper_bgcolor": "white",
          "plot_bgcolor": "#E5ECF6",
          "polar": {
           "angularaxis": {
            "gridcolor": "white",
            "linecolor": "white",
            "ticks": ""
           },
           "bgcolor": "#E5ECF6",
           "radialaxis": {
            "gridcolor": "white",
            "linecolor": "white",
            "ticks": ""
           }
          },
          "scene": {
           "xaxis": {
            "backgroundcolor": "#E5ECF6",
            "gridcolor": "white",
            "gridwidth": 2,
            "linecolor": "white",
            "showbackground": true,
            "ticks": "",
            "zerolinecolor": "white"
           },
           "yaxis": {
            "backgroundcolor": "#E5ECF6",
            "gridcolor": "white",
            "gridwidth": 2,
            "linecolor": "white",
            "showbackground": true,
            "ticks": "",
            "zerolinecolor": "white"
           },
           "zaxis": {
            "backgroundcolor": "#E5ECF6",
            "gridcolor": "white",
            "gridwidth": 2,
            "linecolor": "white",
            "showbackground": true,
            "ticks": "",
            "zerolinecolor": "white"
           }
          },
          "shapedefaults": {
           "line": {
            "color": "#2a3f5f"
           }
          },
          "ternary": {
           "aaxis": {
            "gridcolor": "white",
            "linecolor": "white",
            "ticks": ""
           },
           "baxis": {
            "gridcolor": "white",
            "linecolor": "white",
            "ticks": ""
           },
           "bgcolor": "#E5ECF6",
           "caxis": {
            "gridcolor": "white",
            "linecolor": "white",
            "ticks": ""
           }
          },
          "title": {
           "x": 0.05
          },
          "xaxis": {
           "automargin": true,
           "gridcolor": "white",
           "linecolor": "white",
           "ticks": "",
           "title": {
            "standoff": 15
           },
           "zerolinecolor": "white",
           "zerolinewidth": 2
          },
          "yaxis": {
           "automargin": true,
           "gridcolor": "white",
           "linecolor": "white",
           "ticks": "",
           "title": {
            "standoff": 15
           },
           "zerolinecolor": "white",
           "zerolinewidth": 2
          }
         }
        },
        "xaxis": {
         "anchor": "y",
         "domain": [
          0,
          1
         ],
         "title": {
          "text": "Tahun"
         }
        },
        "yaxis": {
         "anchor": "x",
         "domain": [
          0,
          1
         ],
         "title": {
          "text": "Jumlah"
         }
        }
       }
      }
     },
     "metadata": {},
     "output_type": "display_data"
    }
   ],
   "source": [
    "fig_line = px.line(df_karyawan, \n",
    "                  x='Tahun', \n",
    "                  y=['Jumlah Karyawan', 'Total Proyek'],\n",
    "                  height=400)\n",
    "\n",
    "fig_line.update_traces(\n",
    "    line=dict(width=3),\n",
    "    selector=dict(name='Jumlah Karyawan'),\n",
    "    line_color='#00B4D8'\n",
    ")\n",
    "fig_line.update_traces(\n",
    "    line=dict(width=3),\n",
    "    selector=dict(name='Total Proyek'),\n",
    "    line_color='#FF6B6B'\n",
    ")\n",
    "\n",
    "fig_line.update_layout(\n",
    "    xaxis_title=\"Tahun\",\n",
    "    yaxis_title=\"Jumlah\",\n",
    ")"
   ]
  },
  {
   "cell_type": "markdown",
   "metadata": {},
   "source": [
    "Interpretasi data:\n",
    "Jumlah proyek masuk paling banyak ada di tahun 2024 dengan total 190 proyek di 4 kantor cabang dan pada tahun yang sama jumlah karyawan statsme adalah 39 karyawan. Jika dilihat secara historis tahun 2017 PT Cemerlang Statistika hanya memiliki 3 karyawan dengan total proyek yang dikerjakan adalah 5 proyek. Lalu pada tahun selanjutnya ada 24 proyek yang dikerjakan dengan jumlah karyawan sebanyak 5 karyawan. Jumlah proyek sempat turun, dimana yang awalnya ada 67 proyek pada tahun 2020 turun menjadi 42 proyek pada tahun 2021, meskipun demikian pada tahun-tahun selanjutnya jumlah proyek yang masuk per tahun semakin bertambah dan sejalan dengan pertambahan proyek yang semakin banyak, PT Cemerlang Statistika juga menambah jumlah karyawan-nya sesuai kebutuhan."
   ]
  },
  {
   "cell_type": "code",
   "execution_count": 58,
   "metadata": {},
   "outputs": [
    {
     "name": "stdout",
     "output_type": "stream",
     "text": [
      "\n",
      "INSTALLED VERSIONS\n",
      "------------------\n",
      "commit                : d9cdd2ee5a58015ef6f4d15c7226110c9aab8140\n",
      "python                : 3.11.9.final.0\n",
      "python-bits           : 64\n",
      "OS                    : Windows\n",
      "OS-release            : 10\n",
      "Version               : 10.0.26100\n",
      "machine               : AMD64\n",
      "processor             : AMD64 Family 25 Model 68 Stepping 1, AuthenticAMD\n",
      "byteorder             : little\n",
      "LC_ALL                : None\n",
      "LANG                  : None\n",
      "LOCALE                : English_United States.1252\n",
      "\n",
      "pandas                : 2.2.2\n",
      "numpy                 : 1.26.4\n",
      "pytz                  : 2024.1\n",
      "dateutil              : 2.9.0.post0\n",
      "setuptools            : 65.5.0\n",
      "pip                   : 24.3.1\n",
      "Cython                : None\n",
      "pytest                : None\n",
      "hypothesis            : None\n",
      "sphinx                : None\n",
      "blosc                 : None\n",
      "feather               : None\n",
      "xlsxwriter            : None\n",
      "lxml.etree            : 5.3.0\n",
      "html5lib              : None\n",
      "pymysql               : None\n",
      "psycopg2              : None\n",
      "jinja2                : 3.1.4\n",
      "IPython               : 8.26.0\n",
      "pandas_datareader     : None\n",
      "adbc-driver-postgresql: None\n",
      "adbc-driver-sqlite    : None\n",
      "bs4                   : 4.12.3\n",
      "bottleneck            : None\n",
      "dataframe-api-compat  : None\n",
      "fastparquet           : None\n",
      "fsspec                : None\n",
      "gcsfs                 : None\n",
      "matplotlib            : 3.9.1\n",
      "numba                 : None\n",
      "numexpr               : None\n",
      "odfpy                 : None\n",
      "openpyxl              : 3.1.5\n",
      "pandas_gbq            : None\n",
      "pyarrow               : 18.0.0\n",
      "pyreadstat            : None\n",
      "python-calamine       : None\n",
      "pyxlsb                : None\n",
      "s3fs                  : None\n",
      "scipy                 : 1.14.0\n",
      "sqlalchemy            : None\n",
      "tables                : None\n",
      "tabulate              : None\n",
      "xarray                : None\n",
      "xlrd                  : None\n",
      "zstandard             : None\n",
      "tzdata                : 2024.1\n",
      "qtpy                  : None\n",
      "pyqt5                 : None\n"
     ]
    }
   ],
   "source": [
    "pd.show_versions(as_json=False)"
   ]
  }
 ],
 "metadata": {
  "kernelspec": {
   "display_name": "Python 3",
   "language": "python",
   "name": "python3"
  },
  "language_info": {
   "codemirror_mode": {
    "name": "ipython",
    "version": 3
   },
   "file_extension": ".py",
   "mimetype": "text/x-python",
   "name": "python",
   "nbconvert_exporter": "python",
   "pygments_lexer": "ipython3",
   "version": "3.11.9"
  }
 },
 "nbformat": 4,
 "nbformat_minor": 2
}
